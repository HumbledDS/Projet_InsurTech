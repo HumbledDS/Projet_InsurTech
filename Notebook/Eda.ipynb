{
 "cells": [
  {
   "cell_type": "markdown",
   "metadata": {},
   "source": [
    "# PROJET DATA – DU PYTHON\n"
   ]
  },
  {
   "cell_type": "markdown",
   "metadata": {},
   "source": [
    "### Plan du Projet DATA :\n",
    "\n",
    "_____________________________________________________________\n",
    "\n",
    "1. Traitement de données : compréhension des données, analyse de la \n",
    "complétude et de la conformité des données, contrôles de cohérence\n",
    "(univarié/multivarié), gestion des anomalies : mise en place de correctif, \n",
    "exclusions, etc.\n",
    "2. Jointures éventuelles de bases et contrôles \n",
    "3. Analyses descriptives des données : univariée, multivariée, ASD\n",
    "4. Analyse graphique (data visualisation) + Interfaçage via Shiny for Python \n",
    "5. Modélisation : supervisée (régression, classification) vs non supervisée ; \n",
    "paramétrique (économétriques) vs non paramétriques (machine learning)\n",
    "6. Analyse des résultats : interprétation, explications \n",
    "7. Application : prévision, tarification, etc.\n",
    "\n",
    "\n",
    "\n",
    "- Understanding the Problem Statement\n",
    "- 2. Import Data and Required Packages\n",
    "    2.1 Import Packages\n",
    "    2.2 Import Data\n",
    "    2.3 Show top 5\n",
    "- 3. Data Preprocessing \n",
    "    - 3.1 DB_SIN\n",
    "        * 3.1.a Data Check and Cleaning (Missing Values, Duplicates, Data Types, Unique values, Anomalies fix)\n",
    "        * 3.1.b Preprocessing and Exploratory Analysis\n",
    "        * 3.1.c Visualization\n",
    "    - 3.2 DB_CNT\n",
    "        * 3.2.a Data Check and cleaning (Missing Values, Duplicates, Data Types, Unique values)\n",
    "        * 3.2.b Preprocessing and Exploratory Analysis\n",
    "        * 3.2.c Visualization\n",
    "    - 3.3 DB_TELEMATICS\n",
    "        * 3.3.a Data Check and Cleaning (Missing Values, Duplicates, Data Types, Unique values)\n",
    "        * 3.3.b Preprocessing and Exploratory Analysis\n",
    "        * 3.3.c Visualization\n",
    "- 4. DataBase Merges : \n",
    "    * 4.1. Descriptive Data Analysis : Univaried/Multivaried\n",
    "    * 4.2. Analyse graphique (data visualisation) + Interfaçage via Shiny for Python \n",
    "- 5. Modélisation\n",
    "    * 5.1 supervisée (régression, classification) vs non supervisée ; \n",
    "    * 5.2 paramétrique (économétriques) vs non paramétriques (machine learning)\n",
    "- 7. Analyse des résultats : interprétation, explications \n",
    "- 8. Application : prévision, tarification, etc."
   ]
  },
  {
   "cell_type": "markdown",
   "metadata": {},
   "source": [
    "## 1) Statement\n",
    "##### 1.1 Problem statement\n",
    "- Our project revolves around harnessing the potential of recently acquired insurance databases. The objective is to extract meaningful insights and actionable information to enhance our understanding of the insurance landscape.\n",
    "- Given the constraints and in line with industry standards, we have chosen Python as our primary tool for data analysis. Python's versatility and extensive libraries, such as Pandas, NumPy, and Scikit-learn, will be crucial in efficiently handling, processing, and analyzing the vast amounts of insurance data at our disposal.\n",
    "\n",
    "\n",
    "##### 1.2 Import Data and Required Packages\n",
    "- Dataset Source :\n",
    "    * DB_SIN.txt\n",
    "    * DB_CNT.xlsx\n",
    "    * DB_TELEMATICS.csv\n",
    "    "
   ]
  },
  {
   "cell_type": "markdown",
   "metadata": {},
   "source": [
    "## 2. Import Packages\n",
    "  Importing Pandas, Numpy, Matplotlib, Seaborn and Warings Library."
   ]
  },
  {
   "cell_type": "code",
   "execution_count": null,
   "metadata": {},
   "outputs": [],
   "source": [
    "import numpy as np\n",
    "import pandas as pd\n",
    "import seaborn as sns\n",
    "import matplotlib.pyplot as plt\n",
    "%matplotlib inline\n",
    "import warnings\n",
    "warnings.filterwarnings('ignore')\n",
    "\n",
    "import matplotlib.pyplot as plt\n",
    "import seaborn as sns  # For better aesthetics"
   ]
  },
  {
   "cell_type": "markdown",
   "metadata": {},
   "source": [
    "#### 2.2 Import Data"
   ]
  },
  {
   "cell_type": "code",
   "execution_count": null,
   "metadata": {},
   "outputs": [],
   "source": [
    "# Read DB_SIN.txt\n",
    "sin_df = pd.read_csv('data/DB_SIN.txt', delimiter='\\t')  # Assuming it's a tab-separated file\n",
    "\n",
    "# Read DB_CNT.xlsx from the sheet named 'DB_CNT'\n",
    "cnt_df = pd.read_excel('data/DB_CNT.xlsx', sheet_name='DB_CNT')\n",
    "\n",
    "# Read DB_Telematics.csv\n",
    "telematics_df = pd.read_csv('data/DB_Telematics.csv', delimiter=';')\n"
   ]
  },
  {
   "cell_type": "markdown",
   "metadata": {},
   "source": [
    "#### 2.3 Show top 5"
   ]
  },
  {
   "cell_type": "code",
   "execution_count": null,
   "metadata": {},
   "outputs": [],
   "source": [
    "sin_df.head()"
   ]
  },
  {
   "cell_type": "markdown",
   "metadata": {},
   "source": [
    "We immediately see the disparity on the comma placement in AMT_Claim."
   ]
  },
  {
   "cell_type": "code",
   "execution_count": null,
   "metadata": {},
   "outputs": [],
   "source": [
    "cnt_df.head()"
   ]
  },
  {
   "cell_type": "markdown",
   "metadata": {},
   "source": [
    "We notice some matter in Insured.sex inputs, we will investigate it further."
   ]
  },
  {
   "cell_type": "code",
   "execution_count": null,
   "metadata": {},
   "outputs": [],
   "source": [
    "telematics_df.head()"
   ]
  },
  {
   "cell_type": "markdown",
   "metadata": {},
   "source": [
    "## 3. Data Preprocessing "
   ]
  },
  {
   "cell_type": "markdown",
   "metadata": {},
   "source": [
    "### 3.1 : DB_Sin"
   ]
  },
  {
   "cell_type": "markdown",
   "metadata": {},
   "source": [
    "   - 3.1.a : Data Check and Cleaning (Missing Values, Duplicates, Data Types, Unique values, Anomalies fix)"
   ]
  },
  {
   "cell_type": "code",
   "execution_count": null,
   "metadata": {},
   "outputs": [],
   "source": [
    "sin_df.shape"
   ]
  },
  {
   "cell_type": "code",
   "execution_count": null,
   "metadata": {},
   "outputs": [],
   "source": [
    "sin_df.isna().sum()"
   ]
  },
  {
   "cell_type": "code",
   "execution_count": null,
   "metadata": {},
   "outputs": [],
   "source": [
    "print(\"DB_SIN.txt DataFrame:\")\n",
    "print(sin_df.info())"
   ]
  },
  {
   "cell_type": "code",
   "execution_count": null,
   "metadata": {},
   "outputs": [],
   "source": [
    "# Check for duplicates in 'Id_pol' and print information for sin_df\n",
    "duplicates_info_sin = sin_df['Id_pol'].value_counts()\n",
    "duplicates_info_sin = duplicates_info_sin[duplicates_info_sin > 1]  # Filter only values with more than one occurrence\n",
    "\n",
    "total_duplicates_sin = duplicates_info_sin.sum()\n",
    "\n",
    "print(\"\\nDuplicated 'Id_pol' values and their counts in sin_df DataFrame:\")\n",
    "print(duplicates_info_sin)\n",
    "print(f\"\\nTotal count of duplicates in sin_df: {total_duplicates_sin}\")"
   ]
  },
  {
   "cell_type": "code",
   "execution_count": null,
   "metadata": {},
   "outputs": [],
   "source": [
    "# Check for duplicates in 'Id_pol' in sin_df\n",
    "duplicates_info_sin = sin_df[sin_df.duplicated(subset=['Id_pol'], keep=False)]\n",
    "\n",
    "# Filter duplicates where 'AMT_Claim' is equal to 0 and drop those rows\n",
    "sin_df = sin_df.drop(sin_df[(sin_df['Id_pol'].isin(duplicates_info_sin['Id_pol'])) & (sin_df['AMT_Claim'] == 0)].index)\n",
    "\n",
    "# Confirm the changes\n",
    "print(\"sin_df after removing duplicates with 'AMT_Claim' == 0:\")\n",
    "print(sin_df)"
   ]
  },
  {
   "cell_type": "code",
   "execution_count": null,
   "metadata": {},
   "outputs": [],
   "source": [
    "numeric_summary = sin_df['NB_Claim'].describe()\n",
    "numeric_summary\n",
    "unique_values = sin_df['NB_Claim'].unique()\n",
    "\n",
    "# Display the unique values\n",
    "print(\"Unique values in 'NB_Claim':\")\n",
    "print(unique_values)"
   ]
  },
  {
   "cell_type": "code",
   "execution_count": null,
   "metadata": {},
   "outputs": [],
   "source": [
    "# Replace specific values in 'NB_Claim'\n",
    "sin_df['NB_Claim'] = sin_df['NB_Claim'].replace({'NB_CLAIM:1': '1', 'NB_CLAIM:2': '2'})\n",
    "\n",
    "unique_values = sin_df['NB_Claim'].unique()\n",
    "print(\"Unique values in 'NB_Claim':\")\n",
    "print(unique_values)\n"
   ]
  },
  {
   "cell_type": "code",
   "execution_count": null,
   "metadata": {},
   "outputs": [],
   "source": [
    "# Display descriptive statistics for numeric columns\n",
    "numeric_summary = sin_df.describe()\n",
    "\n",
    "# Display summary for object columns\n",
    "object_summary = sin_df.describe(include='object')\n",
    "\n",
    "# Display the results\n",
    "print(\"Numeric Summary:\")\n",
    "print(numeric_summary)\n",
    "\n",
    "print(\"\\nObject Summary:\")\n",
    "print(object_summary)\n"
   ]
  },
  {
   "cell_type": "markdown",
   "metadata": {},
   "source": [
    "We will have to turn NB_Claim and AMT_Claim to integers."
   ]
  },
  {
   "cell_type": "code",
   "execution_count": null,
   "metadata": {},
   "outputs": [],
   "source": [
    "# Display unique values and their counts in 'AMT_Claim'\n",
    "unique_values_counts = sin_df['AMT_Claim'].value_counts(dropna=False)\n",
    "\n",
    "# Display the results\n",
    "print(\"Unique values and their counts in 'AMT_Claim':\")\n",
    "print(unique_values_counts)\n"
   ]
  },
  {
   "cell_type": "markdown",
   "metadata": {},
   "source": [
    "Lets fix the ANN situation, we will turn ANN (NaN's) into 0. and convert them to integers since these values are \"amounts\".\n",
    "Secondly, we will take off the decimal part since it'll be easier for operations. AMT_Claim is the Agregated Amount of CLAIM (probably in dollars $, € or £)"
   ]
  },
  {
   "cell_type": "code",
   "execution_count": null,
   "metadata": {},
   "outputs": [],
   "source": [
    "# Convert 'AMT_Claim' to numeric (replace 'ANN' with 0)\n",
    "sin_df['AMT_Claim'] = sin_df['AMT_Claim'].replace({'ANN': '0'})\n",
    "\n",
    "# Extract the part before the comma and convert to numeric\n",
    "sin_df['AMT_Claim'] = sin_df['AMT_Claim'].astype(str).str.split(',').str[0]\n",
    "sin_df['AMT_Claim'] = pd.to_numeric(sin_df['AMT_Claim'], errors='coerce')"
   ]
  },
  {
   "cell_type": "code",
   "execution_count": null,
   "metadata": {},
   "outputs": [],
   "source": [
    "# Display unique values and their counts in 'AMT_Claim'\n",
    "unique_values_counts = sin_df['AMT_Claim'].value_counts(dropna=False)\n",
    "\n",
    "# Display the results\n",
    "print(\"Unique values and their counts in 'AMT_Claim':\")\n",
    "print(unique_values_counts)"
   ]
  },
  {
   "cell_type": "code",
   "execution_count": null,
   "metadata": {},
   "outputs": [],
   "source": [
    "# Convert 'NB_Claim' to numeric (replace ',' with '.' if needed)\n",
    "sin_df['NB_Claim'] = pd.to_numeric(sin_df['NB_Claim'].str.replace(',', '.'), errors='coerce')"
   ]
  },
  {
   "cell_type": "code",
   "execution_count": null,
   "metadata": {},
   "outputs": [],
   "source": [
    "print(\"DB_SIN.txt DataFrame:\")\n",
    "print(sin_df.info())"
   ]
  },
  {
   "cell_type": "markdown",
   "metadata": {},
   "source": [
    "#### Conclusion for Sin_DF data prepocessing : \n",
    "For the SIN_DF data we did the following things to clean up the data :\n",
    "1. NB_Claim : We managed to have 3 differents inputs ('1','2','3') and put them as integers\n",
    "2. AMT_Claim : we managed to put the values as integers and \n",
    "3. Turned all ANN (NaN's) to 0\n",
    "4. We corrected the 'comma'/'point' situation for the numeric values\n"
   ]
  },
  {
   "cell_type": "markdown",
   "metadata": {},
   "source": [
    "#### 3.1.b Preprocessing and Exploratory Analysis"
   ]
  },
  {
   "cell_type": "code",
   "execution_count": null,
   "metadata": {},
   "outputs": [],
   "source": [
    "sin_df.describe()"
   ]
  },
  {
   "cell_type": "markdown",
   "metadata": {},
   "source": [
    "- The mean amount of AMT_Claim is 3136.  \n",
    "- The max amount is 104074.  \n",
    "- Most of the people (75%) gets above 3702.  \n",
    "- 474 (around 10%) did get 0.  \n",
    "\n",
    "We can look to see which category of 'NB_Claim' get the most of money (A boxplot with outliers would give the hint)."
   ]
  },
  {
   "cell_type": "markdown",
   "metadata": {},
   "source": [
    "#### 3.1.c Visualization\n",
    "\n",
    "- "
   ]
  },
  {
   "cell_type": "code",
   "execution_count": null,
   "metadata": {},
   "outputs": [],
   "source": [
    "sns.boxplot(x='NB_Claim', y='AMT_Claim', data=sin_df, hue='NB_Claim')\n",
    "plt.title('Boxplot of AMT_Claim by NB_Claim')\n",
    "plt.show()"
   ]
  },
  {
   "cell_type": "markdown",
   "metadata": {},
   "source": [
    "Visualizing the Boxplot of AMT_Claim by NB_Claim we notice the outliers on each category of NB_Claim.  \n",
    "While the mean is around 3136 FOR AMT_Claim we observe values going from 10.000 to 104.000 for NB_Claim == 1.  "
   ]
  },
  {
   "cell_type": "markdown",
   "metadata": {},
   "source": [
    "### 3.2 : DB_CNT"
   ]
  },
  {
   "cell_type": "markdown",
   "metadata": {},
   "source": [
    "   - 3.2.a : Data Check and Cleaning (Missing Values, Duplicates, Data Types, Unique values, Anomalies fix)"
   ]
  },
  {
   "cell_type": "code",
   "execution_count": null,
   "metadata": {},
   "outputs": [],
   "source": [
    "print(\"\\nDB_CNT.xlsx DataFrame:\")\n",
    "print(cnt_df.info())\n"
   ]
  },
  {
   "cell_type": "markdown",
   "metadata": {},
   "source": [
    "#### The DataSet is shaped as (100399, 12). 100399 rows and 12 columns.  \n",
    "- Duration : Duration of the insurance coverage of a given policy, in days  \n",
    "- Insured.age : Age of insured driver, in years  \n",
    "- Insured.sex : Sex of insured driver (Male/Female)  \n",
    "- Car.age : Age of vehicle, in years  \n",
    "- Marital : Marital status (Single/Married)  \n",
    "- Car.use : Use of vehicle: Private, Commute, Farmer, Commercial  \n",
    "- Credit.score : Credit score of insured driver  \n",
    "- Region  : Type of region where driver lives: rural, urban  \n",
    "- Annual.miles.drive : Annual miles expected to be driven declared by driver  \n",
    "- Years.noclaims : Number of years without any claims  \n",
    "- Territory : Territorial location of vehicle  "
   ]
  },
  {
   "cell_type": "markdown",
   "metadata": {},
   "source": [
    "Conditions to meet :   \n",
    "• Duration is the period that policyholder is insured in days, with values in [22,366].  \n",
    "• Insured.age is the age of insured driver in integral years, with values in [16,103].  \n",
    "• Car.age is the age of vehicle, with values in [-2,20]. Negative values are rare but are possible as buying a newer model can be up to two years in advance.  \n",
    "• Years.noclaims is the number of years without any claims, with values in [0, 79] and\n",
    "always less than Insured.age.  \n",
    "• Territory is the territorial location code of vehicle, which has 55 labels in {11,12,13,· · · ,91}.  "
   ]
  },
  {
   "cell_type": "code",
   "execution_count": null,
   "metadata": {},
   "outputs": [],
   "source": [
    "# Check for duplicates in 'Id_pol' and print information for cnt_df\n",
    "duplicates_info_cnt = cnt_df['Id_pol'].value_counts()\n",
    "duplicates_info_cnt = duplicates_info_cnt[duplicates_info_cnt > 1]  # Filter only values with more than one occurrence\n",
    "\n",
    "total_duplicates_cnt = duplicates_info_cnt.sum()\n",
    "\n",
    "print(\"Duplicated 'Id_pol' values and their counts in cnt_df DataFrame:\")\n",
    "print(duplicates_info_cnt)\n",
    "print(f\"\\nTotal count of duplicates in cnt_df: {total_duplicates_cnt}\")\n"
   ]
  },
  {
   "cell_type": "code",
   "execution_count": null,
   "metadata": {},
   "outputs": [],
   "source": [
    "# Check for duplicates in 'Id_pol'\n",
    "duplicates_cnt = cnt_df[cnt_df.duplicated(subset=['Id_pol'], keep=False)]\n",
    "\n",
    "# Print information about duplicates in cnt_df\n",
    "print(f\"Total count of duplicates in cnt_df: {len(duplicates_cnt)}\")\n",
    "\n"
   ]
  },
  {
   "cell_type": "code",
   "execution_count": null,
   "metadata": {},
   "outputs": [],
   "source": [
    "# Identify and print details of duplicates\n",
    "duplicates_mask = cnt_df.duplicated(subset=['Id_pol'], keep=False)\n",
    "duplicates_df = cnt_df[duplicates_mask]\n",
    "\n",
    "print(f\"Total count of duplicates: {len(duplicates_df)}\")\n",
    "print(\"Details of duplicates:\")\n",
    "print(duplicates_df)\n",
    "\n",
    "# Remove rows where 'Marital' is empty only for the duplicates\n",
    "empty_marital_mask = duplicates_df['Marital'].isna() | (duplicates_df['Marital'] == '')\n",
    "cnt_df = cnt_df[~(duplicates_mask & empty_marital_mask)]\n",
    "\n",
    "# Check the result\n",
    "print(f\"Total count after removing duplicates with empty 'Marital': {len(cnt_df)}\")\n",
    "cnt_df.dropna(subset=['Marital'], inplace=True)\n",
    "print(f\"We Delete rows where 'Marital' is empty. We notice that most of them are duplicates\")\n"
   ]
  },
  {
   "cell_type": "code",
   "execution_count": null,
   "metadata": {},
   "outputs": [],
   "source": [
    "print(\"\\nDB_CNT.xlsx DataFrame:\")\n",
    "print(cnt_df.info())\n"
   ]
  },
  {
   "cell_type": "code",
   "execution_count": null,
   "metadata": {},
   "outputs": [],
   "source": [
    "# Filter object variables\n",
    "object_columns = cnt_df.select_dtypes(include='object').columns\n",
    "\n",
    "# Display unique values for each object variable\n",
    "for column in object_columns:\n",
    "    unique_values = cnt_df[column].unique()\n",
    "    print(f\"Unique values in '{column}':\")\n",
    "    print(unique_values)\n",
    "    print()"
   ]
  },
  {
   "cell_type": "markdown",
   "metadata": {},
   "source": [
    "##### Imputation of missing Values, and Miss-written Inputs.\n",
    "We will proceed as following :\n",
    "\n",
    "- Insured.Sex : We will match inputs as Male, Female  \n",
    "- Marital : Single, Married  \n",
    "- Car use : Private, Commute, Farmer, Commercial. We will use Territory values to commute to the right car use value.  \n",
    "- Region : Urban, Rural. With help of terrority we will find the right Region for missing values.  \n",
    "- Year.noclaims : EAJ > 0, Then we will turn the column to integer.  "
   ]
  },
  {
   "cell_type": "code",
   "execution_count": null,
   "metadata": {},
   "outputs": [],
   "source": [
    "# Count occurrences of unique values in 'Insured.sex'\n",
    "sex_counts = cnt_df['Insured.sex'].value_counts()\n",
    "\n",
    "# Display the result\n",
    "print(\"Count of unique values in 'Insured.sex':\")\n",
    "print(sex_counts)\n",
    "print()\n",
    "\n",
    "# Count occurrences of unique values in 'Region'\n",
    "Region_counts = cnt_df['Region'].value_counts()\n",
    "\n",
    "# Display the result\n",
    "print(\"Count of unique values in 'Region':\")\n",
    "print(Region_counts)\n",
    "print()\n",
    "\n",
    "# Count occurrences of unique values in 'Marital'\n",
    "marital_counts = cnt_df['Marital'].value_counts()\n",
    "\n",
    "# Display the result\n",
    "print(\"Count of unique values in 'Marital':\")\n",
    "print(marital_counts)\n"
   ]
  },
  {
   "cell_type": "code",
   "execution_count": null,
   "metadata": {},
   "outputs": [],
   "source": [
    "# Map values in 'Insured.sex'\n",
    "sex_mapping = {'Male': ['Male', 'H', 'Unknown'], 'Female': ['Female', 'F']}\n",
    "\n",
    "# Replace values in 'Insured.sex'\n",
    "for category, values in sex_mapping.items():\n",
    "    cnt_df['Insured.sex'] = cnt_df['Insured.sex'].replace(values, category)\n",
    "\n",
    "# Verify the result\n",
    "sex_counts_after_mapping = cnt_df['Insured.sex'].value_counts()\n",
    "print(\"Count of unique values in 'Insured.sex' after mapping:\")\n",
    "print(sex_counts_after_mapping)"
   ]
  },
  {
   "cell_type": "code",
   "execution_count": null,
   "metadata": {},
   "outputs": [],
   "source": [
    "# Map values in 'Marital'\n",
    "marital_mapping = {'Single': ['Single', 'Celib'], 'Married': ['Married', 'Marié']}\n",
    "\n",
    "# Replace values in 'Marital'\n",
    "for category, values in marital_mapping.items():\n",
    "    cnt_df['Marital'] = cnt_df['Marital'].replace(values, category)\n",
    "\n",
    "# Add 'Unknown' and NaN to 'Single'\n",
    "cnt_df['Marital'] = cnt_df['Marital'].fillna('Single')\n",
    "cnt_df['Marital'] = cnt_df['Marital'].replace('Unknown', 'Single')\n",
    "\n",
    "# Verify the result\n",
    "marital_counts_after_mapping = cnt_df['Marital'].value_counts()\n",
    "print(\"Count of unique values in 'Marital' after mapping:\")\n",
    "print(marital_counts_after_mapping)"
   ]
  },
  {
   "cell_type": "markdown",
   "metadata": {},
   "source": [
    "• Region  : Type of region where driver lives: rural, urban   \n",
    "• Territory is the territorial location code of vehicle, which has 55 labels in {11,12,13,· · · ,91}.  \n",
    "To fix the Region values, we will make clusters of Regions.\n",
    "The idea here is to see the tuples as following :\n",
    "\n",
    "Tuple = [Value(Region) : Territory(1,2,...)].  \n",
    "Exemple : [Rural, Territory (1,5,9), Urban, Territory (7,89,63,...)].  \n",
    "With this idea, we will then input the approx Region.  "
   ]
  },
  {
   "cell_type": "code",
   "execution_count": null,
   "metadata": {},
   "outputs": [],
   "source": [
    "# Select rows where 'Car.use' is in the specified categories\n",
    "selected_car_use = ['Private', 'Commute', 'Farmer', 'Commercial']\n",
    "filtered_df = cnt_df[cnt_df['Car.use'].isin(selected_car_use)]\n",
    "\n",
    "# Group by 'Car.use' and count the occurrences of each 'Territory'\n",
    "territory_by_car_use = filtered_df.groupby('Car.use')['Territory'].value_counts()\n",
    "\n",
    "# Display the result\n",
    "print(territory_by_car_use)"
   ]
  },
  {
   "cell_type": "code",
   "execution_count": null,
   "metadata": {},
   "outputs": [],
   "source": [
    "# Display unique values and their counts in 'Years.noclaims'\n",
    "unique_values_counts = cnt_df['Years.noclaims'].value_counts(dropna=False)\n",
    "\n",
    "# Display the results\n",
    "print(\"Unique values and their counts in 'Years.noclaims':\")\n",
    "print(unique_values_counts)"
   ]
  },
  {
   "cell_type": "code",
   "execution_count": null,
   "metadata": {},
   "outputs": [],
   "source": [
    "# Define the allowed car use categories\n",
    "allowed_car_use = ['Private', 'Commute', 'Farmer', 'Commercial']\n",
    "\n",
    "# Filter rows where 'Car.use' is not in the allowed categories\n",
    "invalid_car_use_mask = ~cnt_df['Car.use'].isin(allowed_car_use)\n",
    "\n",
    "# For invalid 'Car.use', correct based on 'Territory'\n",
    "for index, row in cnt_df[invalid_car_use_mask].iterrows():\n",
    "    territory = row['Territory']\n",
    "    \n",
    "    # Define mapping from Territory to corrected Car.use\n",
    "    territory_to_car_use = {\n",
    "        # Define your mappings here\n",
    "        1: 'Private',\n",
    "        2: 'Commute',\n",
    "        3: 'Farmer',\n",
    "        4: 'Commercial',\n",
    "        # Add more mappings as needed\n",
    "    }\n",
    "\n",
    "    # Correct the 'Car.use' based on 'Territory'\n",
    "    corrected_car_use = territory_to_car_use.get(territory, 'Commute')\n",
    "\n",
    "    # Update the 'Car.use' in the DataFrame\n",
    "    cnt_df.at[index, 'Car.use'] = corrected_car_use\n",
    "\n",
    "# Verify the changes\n",
    "print(cnt_df['Car.use'].value_counts())"
   ]
  },
  {
   "cell_type": "code",
   "execution_count": null,
   "metadata": {},
   "outputs": [],
   "source": [
    "# Define the allowed Region categories\n",
    "allowed_Region = ['Rural', 'Urban']\n",
    "\n",
    "# Filter rows where 'Region' is not in the allowed categories\n",
    "invalid_Region_mask = ~cnt_df['Region'].isin(allowed_Region)\n",
    "\n",
    "# For invalid 'Region', correct based on 'Territory'\n",
    "for index, row in cnt_df[invalid_Region_mask].iterrows():\n",
    "    territory = row['Territory']\n",
    "    \n",
    "    # Define mapping from Territory to corrected Region\n",
    "    territory_to_Region = {\n",
    "        # Define your mappings here\n",
    "        1: 'Urban',\n",
    "        2: 'Rural',\n",
    "    }\n",
    "\n",
    "    # Correct the 'Region' based on 'Territory'\n",
    "    corrected_Region = territory_to_Region.get(territory, 'Urban')\n",
    "\n",
    "    # Update the 'Region' in the DataFrame\n",
    "    cnt_df.at[index, 'Region'] = corrected_Region\n",
    "\n",
    "# Verify the changes\n",
    "print(cnt_df['Region'].value_counts())"
   ]
  },
  {
   "cell_type": "code",
   "execution_count": null,
   "metadata": {},
   "outputs": [],
   "source": [
    "# Count occurrences of 'EAJ' in 'Years.noclaims'\n",
    "eaj_count = cnt_df['Years.noclaims'].eq('EAJ').sum()\n",
    "\n",
    "# Display the result\n",
    "print(\"Number of occurrences of 'EAJ':\", eaj_count)"
   ]
  },
  {
   "cell_type": "markdown",
   "metadata": {},
   "source": [
    "Years.noclaims must be in [0,79].  \n",
    "Years.noclaims is the number of years without any claims, with values in [0, 79] and\n",
    "always less than Insured.age.\n",
    "We will add 'EAJ' to 1 and all the occurances from greater than 79 years will be added back to 79."
   ]
  },
  {
   "cell_type": "code",
   "execution_count": null,
   "metadata": {},
   "outputs": [],
   "source": [
    "# Replace 'EAJ' with 1\n",
    "cnt_df['Years.noclaims'] = cnt_df['Years.noclaims'].replace('EAJ', 1)\n",
    "\n",
    "# Convert 'Years.noclaims' to numeric\n",
    "cnt_df['Years.noclaims'] = pd.to_numeric(cnt_df['Years.noclaims'], errors='coerce')\n",
    "\n",
    "# Replace values greater than 79 with 79\n",
    "cnt_df['Years.noclaims'] = cnt_df['Years.noclaims'].where(cnt_df['Years.noclaims'] <= 79, 79)\n",
    "\n",
    "# Verify the result\n",
    "years_noclaims_summary = cnt_df['Years.noclaims'].describe()\n",
    "print(\"Summary of 'Years.noclaims' after modifications:\")\n",
    "print(years_noclaims_summary)"
   ]
  },
  {
   "cell_type": "markdown",
   "metadata": {},
   "source": [
    "Years.noclaims must always be less than insured.age"
   ]
  },
  {
   "cell_type": "code",
   "execution_count": null,
   "metadata": {},
   "outputs": [],
   "source": [
    "# Check if 'Years.noclaims' is less than 'Insured.age'\n",
    "invalid_years_noclaims_mask = cnt_df['Years.noclaims'] >= cnt_df['Insured.age']\n",
    "\n",
    "# Calculate 'Years.noclaims - 16' for rows where the condition is not met\n",
    "cnt_df.loc[~invalid_years_noclaims_mask, 'Years.noclaims'] = np.maximum(0, cnt_df['Years.noclaims'] - 16)\n"
   ]
  },
  {
   "cell_type": "code",
   "execution_count": null,
   "metadata": {},
   "outputs": [],
   "source": [
    "# Set values under 22 in 'Duration' to 22\n",
    "cnt_df.loc[cnt_df['Duration'] < 22, 'Duration'] = 22\n"
   ]
  },
  {
   "cell_type": "code",
   "execution_count": null,
   "metadata": {},
   "outputs": [],
   "source": [
    "# Filter object variables\n",
    "object_columns = cnt_df.select_dtypes(include='object').columns\n",
    "\n",
    "# Display unique values for each object variable\n",
    "for column in object_columns:\n",
    "    unique_values = cnt_df[column].unique()\n",
    "    print(f\"Unique values in '{column}':\")\n",
    "    print(unique_values)\n",
    "    print()"
   ]
  },
  {
   "cell_type": "markdown",
   "metadata": {},
   "source": [
    "Conditions Check :   \n",
    "• Duration is the period that policyholder is insured in days, with values in [22,366].  \n",
    "• Insured.age is the age of insured driver in integral years, with values in [16,103].  \n",
    "• Car.age is the age of vehicle, with values in [-2,20]. Negative values are rare but are possible as buying a newer model can be up to two years in advance.  \n",
    "• Years.noclaims is the number of years without any claims, with values in [0, 79] and\n",
    "always less than Insured.age.  \n",
    "• Territory is the territorial location code of vehicle, which has 55 labels in {11,12,13,· · · ,91}.  "
   ]
  },
  {
   "cell_type": "code",
   "execution_count": null,
   "metadata": {},
   "outputs": [],
   "source": [
    "# Find the range of values in 'Duration'\n",
    "duration_range = (cnt_df['Duration'].min(), cnt_df['Duration'].max())\n",
    "# Print the range\n",
    "print(\"Range of values in 'Duration':\", duration_range)\n",
    "\n",
    "\n",
    "# Find the range of values in 'Insured.Age'\n",
    "Insured_age_range = (cnt_df['Insured.age'].min(), cnt_df['Insured.age'].max())\n",
    "# Print the range\n",
    "print(\"Range of values in 'Insured.age':\", Insured_age_range)\n",
    "\n",
    "\n",
    "# Find the range of values in 'Car.age'\n",
    "Car_age_range = (cnt_df['Car.age'].min(), cnt_df['Car.age'].max())\n",
    "# Print the range\n",
    "print(\"Range of values in 'Car.age':\", Car_age_range)\n",
    "\n",
    "\n",
    "# Find the range of values in 'Years.noclaims'\n",
    "Years_noclaims_range = (cnt_df['Years.noclaims'].min(), cnt_df['Years.noclaims'].max())\n",
    "# Print the range\n",
    "print(\"Range of values in 'Years.noclaims':\", Years_noclaims_range)\n",
    "\n",
    "\n",
    "# Find the range of values in 'Territory'\n",
    "Territory_range = (cnt_df['Territory'].min(), cnt_df['Territory'].max())\n",
    "# Print the range\n",
    "print(\"Range of values in 'Territory':\", Territory_range)"
   ]
  },
  {
   "cell_type": "markdown",
   "metadata": {},
   "source": [
    "For simplication purpose, we will turn 'Credit.score' and 'Annual.miles.drive' to integers"
   ]
  },
  {
   "cell_type": "code",
   "execution_count": null,
   "metadata": {},
   "outputs": [],
   "source": [
    "# Convert 'Credit.score' and 'Annual.miles.drive' to integers\n",
    "cnt_df['Credit.score'] = cnt_df['Credit.score'].astype('int64')\n",
    "cnt_df['Annual.miles.drive'] = cnt_df['Annual.miles.drive'].astype('int64')"
   ]
  },
  {
   "cell_type": "code",
   "execution_count": null,
   "metadata": {},
   "outputs": [],
   "source": [
    "print(\"\\nDB_CNT.xlsx DataFrame:\")\n",
    "print(cnt_df.info())\n"
   ]
  },
  {
   "cell_type": "markdown",
   "metadata": {},
   "source": [
    "#### 3.2.c Visualization\n",
    "\n",
    "- Age and sex\n",
    "- Sex and Car use\n",
    "- Car Age and Credit Score\n",
    "- Car Age and Car use and Region\n",
    "- Annual miles and Region\n",
    "- Annual miles and Car Use"
   ]
  },
  {
   "cell_type": "code",
   "execution_count": null,
   "metadata": {},
   "outputs": [],
   "source": [
    "import seaborn as sns\n",
    "import matplotlib.pyplot as plt\n",
    "\n",
    "# Set the style for seaborn\n",
    "sns.set(style=\"whitegrid\")\n",
    "\n",
    "# Age and Sex\n",
    "plt.figure(figsize=(10, 6))\n",
    "sns.boxplot(x='Insured.sex', y='Insured.age', data=cnt_df, palette='pastel')\n",
    "plt.title('Age Distribution by Sex')\n",
    "plt.xlabel('Sex')\n",
    "plt.ylabel('Age')\n",
    "plt.show()\n",
    "\n",
    "# Sex and Car use\n",
    "plt.figure(figsize=(10, 6))\n",
    "sns.countplot(x='Insured.sex', hue='Car.use', data=cnt_df, palette='pastel')\n",
    "plt.title('Count of Car Use by Sex')\n",
    "plt.xlabel('Sex')\n",
    "plt.ylabel('Count')\n",
    "plt.show()\n",
    "\n",
    "# Car Age and Credit Score\n",
    "plt.figure(figsize=(12, 6))\n",
    "sns.scatterplot(x='Car.age', y='Credit.score', data=cnt_df, palette='pastel')\n",
    "plt.title('Scatter Plot of Car Age and Credit Score')\n",
    "plt.xlabel('Car Age')\n",
    "plt.ylabel('Credit Score')\n",
    "plt.show()\n",
    "\n",
    "# Car Age and Car use and Region\n",
    "plt.figure(figsize=(12, 6))\n",
    "sns.boxplot(x='Car.use', y='Car.age', hue='Region', data=cnt_df, palette='pastel')\n",
    "plt.title('Car Age Distribution by Car Use and Region')\n",
    "plt.xlabel('Car Use')\n",
    "plt.ylabel('Car Age')\n",
    "plt.legend(title='Region')\n",
    "plt.show()\n",
    "\n",
    "# Annual miles and Region\n",
    "plt.figure(figsize=(12, 6))\n",
    "sns.boxplot(x='Region', y='Annual.miles.drive', data=cnt_df, palette='pastel')\n",
    "plt.title('Annual Miles Distribution by Region')\n",
    "plt.xlabel('Region')\n",
    "plt.ylabel('Annual Miles Driven')\n",
    "plt.show()\n",
    "\n",
    "# Annual miles and Car Use\n",
    "plt.figure(figsize=(12, 6))\n",
    "sns.boxplot(x='Car.use', y='Annual.miles.drive', data=cnt_df, palette='pastel')\n",
    "plt.title('Annual Miles Distribution by Car Use')\n",
    "plt.xlabel('Car Use')\n",
    "plt.ylabel('Annual Miles Driven')\n",
    "plt.show()\n"
   ]
  },
  {
   "cell_type": "markdown",
   "metadata": {},
   "source": [
    "#### Commentaire : Conclusion "
   ]
  },
  {
   "cell_type": "markdown",
   "metadata": {},
   "source": [
    "### 3.3 DB_TELEMATICS\n",
    "        "
   ]
  },
  {
   "cell_type": "code",
   "execution_count": null,
   "metadata": {},
   "outputs": [],
   "source": [
    "print(\"\\nDB_Telematics.csv DataFrame:\")\n",
    "print(telematics_df.info())"
   ]
  },
  {
   "cell_type": "markdown",
   "metadata": {},
   "source": [
    "* Annual.pct.driven Annualized percentage of time on the road  \n",
    "* Total.miles.driven Total distance driven in miles  \n",
    "* Pct.drive.xxx Percent of driving day xxx of the week: mon/tue/. . . /sun  \n",
    "* Pct.drive.xhrs Percent vehicle driven within x hrs: 2hrs/3hrs/4hrs  \n",
    "* Pct.drive.xxx Percent vehicle driven during xxx: wkday/wkend  \n",
    "* Pct.drive.rushxx Percent of driving during xx rush hours: am/pm  \n",
    "* Avgdays.week Mean number of days used per week  \n",
    "* Accel.xxmiles Number of sudden acceleration 6/8/9/. . . /14 mph/s per 1000miles  \n",
    "* Brake.xxmiles Number of sudden brakes 6/8/9/. . . /14 mph/s per 1000miles  \n",
    "* Left.turn.intensityxx Number of left turn per 1000miles with intensity 08/09/10/11/12  \n",
    "* Right.turn.intensityxx Number of right turn per 1000miles with intensity 08/09/10/11/12  "
   ]
  },
  {
   "cell_type": "markdown",
   "metadata": {},
   "source": [
    "Conditions to meet for TELEMATICS.csv :  \n",
    "• Annual.pct.driven is the number of day a policyholder uses vehicle divided by 365, with\n",
    "values in [0,1.1].  \n",
    "• Pct.drive.mon, · · · , Pct.drive.sun are compositional variables meaning that the sum\n",
    "of seven (days of the week) variables is 100%.  \n",
    "• Pct.drive.wkday and Pct.drive.wkend are clearly compositional variables too.  "
   ]
  },
  {
   "cell_type": "markdown",
   "metadata": {},
   "source": [
    "DB_CNT has 100399 where DB_TELEMATICS has 100332 lines. "
   ]
  },
  {
   "cell_type": "markdown",
   "metadata": {},
   "source": [
    "#### 3.3.a Data Check and Cleaning (Missing Values, Duplicates, Data Types, Unique values)"
   ]
  },
  {
   "cell_type": "markdown",
   "metadata": {},
   "source": [
    "We see that the variable Id_pol is in a different form and some of the columns are objects when they should be floats. Lets start there."
   ]
  },
  {
   "cell_type": "code",
   "execution_count": null,
   "metadata": {},
   "outputs": [],
   "source": [
    "# Remove 'cnt_' prefix from 'Id_pol'\n",
    "telematics_df['Id_pol'] = telematics_df['Id_pol'].str.replace('cnt_', '')\n",
    "\n",
    "# Convert 'Id_pol' to integers\n",
    "telematics_df['Id_pol'] = telematics_df['Id_pol'].astype('int64')\n",
    "\n",
    "# Display the updated 'Id_pol' column\n",
    "print(telematics_df['Id_pol'])\n"
   ]
  },
  {
   "cell_type": "code",
   "execution_count": null,
   "metadata": {},
   "outputs": [],
   "source": [
    "#Columns to convert to float\n",
    "columns_to_convert = [\n",
    "    'Annual.pct.driven', 'Total.miles.driven', 'Pct.drive.mon', 'Pct.drive.tue',\n",
    "    'Pct.drive.wed', 'Pct.drive.thr', 'Pct.drive.fri', 'Pct.drive.sat', 'Pct.drive.sun',\n",
    "    'Pct.drive.2hrs', 'Pct.drive.3hrs', 'Pct.drive.4hrs', 'Pct.drive.wkday', 'Pct.drive.wkend',\n",
    "    'Pct.drive.rush am', 'Pct.drive.rush pm', 'Avgdays.week'\n",
    "]\n",
    "\n",
    "columns_to_integer = [\n",
    "    'Accel.06miles', 'Accel.08miles', 'Accel.09miles', 'Accel.11miles',\t'Accel.12miles', 'Accel.14miles',\t\n",
    "    'Brake.06miles', 'Brake.08miles', 'Brake.09miles', 'Brake.11miles',\t'Brake.12miles', 'Brake.14miles',\t\n",
    "    'Left.turn.intensity08', 'Left.turn.intensity09', 'Left.turn.intensity10', 'Left.turn.intensity11',\t'Left.turn.intensity12',\n",
    "    'Right.turn.intensity08', 'Right.turn.intensity09', 'Right.turn.intensity10', 'Right.turn.intensity11',\t'Right.turn.intensity12'\n",
    "\n",
    "]"
   ]
  },
  {
   "cell_type": "code",
   "execution_count": null,
   "metadata": {},
   "outputs": [],
   "source": [
    "#We replace ',' to '.'\n",
    "\n",
    "telematics_df[columns_to_convert] = telematics_df[columns_to_convert].replace(',', '.', regex=True)"
   ]
  },
  {
   "cell_type": "code",
   "execution_count": null,
   "metadata": {},
   "outputs": [],
   "source": [
    "# Convert 'Id_pol' to integers\n",
    "telematics_df[columns_to_integer] = telematics_df[columns_to_integer].astype('int64')\n"
   ]
  },
  {
   "cell_type": "code",
   "execution_count": null,
   "metadata": {},
   "outputs": [],
   "source": [
    "telematics_df[columns_to_convert] = telematics_df[columns_to_convert].astype(float)"
   ]
  },
  {
   "cell_type": "code",
   "execution_count": null,
   "metadata": {},
   "outputs": [],
   "source": [
    "# Round float columns to two decimal places\n",
    "telematics_df[columns_to_convert] = telematics_df[columns_to_convert].round(2)"
   ]
  },
  {
   "cell_type": "code",
   "execution_count": null,
   "metadata": {},
   "outputs": [],
   "source": [
    "missing_values = telematics_df.isnull().sum()\n",
    "print(\"Missing Values per Column:\")\n",
    "print(missing_values[missing_values > 0])\n"
   ]
  },
  {
   "cell_type": "markdown",
   "metadata": {},
   "source": [
    "There is no missing Values in the DataSet. "
   ]
  },
  {
   "cell_type": "code",
   "execution_count": null,
   "metadata": {},
   "outputs": [],
   "source": [
    "print(\"\\nDB_Telematics.csv DataFrame:\")\n",
    "print(telematics_df.info())"
   ]
  },
  {
   "cell_type": "code",
   "execution_count": null,
   "metadata": {},
   "outputs": [],
   "source": [
    "# Check for duplicates in 'Id_pol'\n",
    "duplicates_db_telematics = telematics_df[telematics_df.duplicated(subset=['Id_pol'], keep=False)]['Id_pol'].unique()\n",
    "print(\"Duplicates in DB_Telematics:\")\n",
    "print(duplicates_db_telematics)"
   ]
  },
  {
   "cell_type": "code",
   "execution_count": null,
   "metadata": {},
   "outputs": [],
   "source": [
    "# Find and display duplicated 'Id_pol' values and their counts\n",
    "duplicates_info = telematics_df['Id_pol'].value_counts()\n",
    "duplicates_info = duplicates_info[duplicates_info > 1]  # Filter only values with more than one occurrence\n",
    "\n",
    "total_duplicates = int(duplicates_info.sum()/2)\n",
    "\n",
    "print(\"Duplicated 'Id_pol' values and their counts in DB_Telematics DataFrame:\")\n",
    "print(duplicates_info)\n",
    "print(f\"\\nTotal count of duplicates: {total_duplicates}\")"
   ]
  },
  {
   "cell_type": "code",
   "execution_count": null,
   "metadata": {},
   "outputs": [],
   "source": [
    "# Get the duplicated values in 'Id_pol'\n",
    "duplicates_db_telematics = telematics_df[telematics_df.duplicated(subset=['Id_pol'], keep=False)]['Id_pol'].unique()\n",
    "\n",
    "# Remove rows with other variables equal to 0 for duplicated 'Id_pol'\n",
    "filtered_db_telematics = telematics_df[~((telematics_df['Id_pol'].isin(duplicates_db_telematics)) & (telematics_df.iloc[:, 1:] == 0).any(axis=1))]\n",
    "\n",
    "print(\"Filtered DB_Telematics DataFrame:\")\n",
    "print(filtered_db_telematics)"
   ]
  },
  {
   "cell_type": "code",
   "execution_count": null,
   "metadata": {},
   "outputs": [],
   "source": [
    "telematics_df= filtered_db_telematics"
   ]
  },
  {
   "cell_type": "code",
   "execution_count": null,
   "metadata": {},
   "outputs": [],
   "source": [
    "# For telematics_df\n",
    "#telematics_df.to_csv('artefacts/telematics_df3.csv', index=False)"
   ]
  },
  {
   "cell_type": "code",
   "execution_count": null,
   "metadata": {},
   "outputs": [],
   "source": [
    "# Download the files as csv to into artefact document folder :\n",
    "# For sin_df\n",
    "#sin_df.to_csv('artefacts/sin_df2.csv', index=False)\n",
    "\n",
    "# For cnt_df\n",
    "#cnt_df.to_csv('artefacts/cnt_df2.csv', index=False)\n",
    "\n",
    "# For telematics_df\n",
    "#filtered_db_telematics.to_csv('artefacts/telematics_df2.csv', index=False)"
   ]
  },
  {
   "cell_type": "markdown",
   "metadata": {},
   "source": [
    "#### 3.3.b Preprocessing and Exploratory Analysis\n",
    "     "
   ]
  },
  {
   "cell_type": "markdown",
   "metadata": {},
   "source": [
    "sin_df2\n",
    "cnt_df2\n",
    "telematics_df2\n"
   ]
  },
  {
   "cell_type": "markdown",
   "metadata": {},
   "source": [
    "#### 3.3.c Visualization"
   ]
  },
  {
   "cell_type": "markdown",
   "metadata": {},
   "source": [
    "## 4. Merging DataBases"
   ]
  },
  {
   "cell_type": "code",
   "execution_count": null,
   "metadata": {},
   "outputs": [],
   "source": [
    "# Merge the datasets on 'Id_pol'\n",
    "merged_df1 = pd.merge(telematics_df, cnt_df, on='Id_pol', how='inner')"
   ]
  },
  {
   "cell_type": "code",
   "execution_count": null,
   "metadata": {},
   "outputs": [],
   "source": [
    "missing_values = merged_df1.isnull().sum()\n",
    "print(\"Missing Values per Column:\")\n",
    "print(missing_values[missing_values > 0])\n"
   ]
  },
  {
   "cell_type": "markdown",
   "metadata": {},
   "source": [
    "### Feature Engineering : \n",
    "\n",
    "To simplify the dataset and extract meaningful features, we can define the following types of variables through feature engineering:  \n",
    "\n",
    "1. **Demographic Features**:  \n",
    "   - **Age Group**: Categorize insured driver's age into groups (e.g., young adult, middle-aged, senior).\n",
    "   - **Gender Binary**: Convert 'Insured.sex' into a binary variable (0 for male, 1 for female).  \n",
    "\n",
    "2. **Policy and Vehicle Features**:  \n",
    "   - **Policy Duration Category**: Group 'Duration' into categories (e.g., short-term, medium-term, long-term).\n",
    "   - **Vehicle Age Group**: Categorize 'Car.age' into groups (e.g., new, moderately old, old).\n",
    "   - **Credit Score Group**: Bin 'Credit.score' into categories (e.g., poor, fair, good, excellent).\n",
    "   - **Car Use Category**: Create dummy variables for 'Car.use' (Private, Commute, Farmer, Commercial).\n",
    "   - **Region Type**: Convert 'Region' into binary variable (0 for rural, 1 for urban).  \n",
    "\n",
    "3. **Driving Behavior Features**:  \n",
    "   - **Average Annual Miles Group**: Categorize 'Annual.miles.drive' into groups (e.g., low mileage, moderate mileage, high mileage).\n",
    "   - **Years Without Claims Group**: Categorize 'Years.noclaims' into groups (e.g., no claims, 1-2 years, 3-5 years, more than 5 years).\n",
    "   - **Territory Code**: Convert 'Territory' into binary variables (one-hot encoding).  \n",
    "\n",
    "4. **Telematics Features**:  \n",
    "   - **Driving Intensity**: Sum of 'Left.turn.intensityxx' and 'Right.turn.intensityxx' for overall turning intensity.\n",
    "   - **Weekly Driving Patterns**: Sum of 'Pct.drive.xxx' for overall weekly driving patterns.\n",
    "   - **Hourly Driving Patterns**: Sum of 'Pct.drive.xhrs' for overall hourly driving patterns.\n",
    "   - **Rush Hour Driving**: Sum of 'Pct.drive.rushxx' for overall rush hour driving.\n",
    "   - **Safe Driver** : Composite score based on smooth driving behavior with low acceleration, braking, and turn intensity.  \n",
    "   - **Aggressive Driver** : Composite score based on high acceleration, braking, and turn intensity.  \n",
    "\n",
    "5. **Response Variables**:  \n",
    "   - **Claim Frequency**: Count the number of claims during the observation period ('Response NB Claim').\n",
    "   - **Claim Severity**: Aggregate amount of claims during the observation period ('AMT Claim').  \n",
    "\n",
    "By engineering these variables, we can simplify the dataset and create features that capture important aspects of driver behavior, vehicle characteristics, and insurance policy details, which can be used for modeling and analysis purposes.  "
   ]
  },
  {
   "cell_type": "markdown",
   "metadata": {},
   "source": [
    "Urban > Acceleration > Brake\n",
    "\n",
    "Drive.Hour(Rural/urban)\n",
    "\n",
    "Correlation : \n",
    "- (Acceleration) > Claims\n",
    "- Accelaration > Age/Sex > Rural\n",
    "- diff Annual Miles Telematics vs Annual Miles CNT/\n",
    "\n",
    "AvgDayWeek\n",
    "Drive.rush\n"
   ]
  },
  {
   "cell_type": "markdown",
   "metadata": {},
   "source": [
    "We will merge the bases to be able to work on a larger scale of variables."
   ]
  },
  {
   "cell_type": "markdown",
   "metadata": {},
   "source": [
    "## 4. DataBase Merges "
   ]
  },
  {
   "cell_type": "markdown",
   "metadata": {},
   "source": [
    "### 4.1. Descriptive Data Analysis : Univaried/Multivaried"
   ]
  },
  {
   "cell_type": "markdown",
   "metadata": {},
   "source": [
    "### 4.2. Analyse graphique (data visualisation) + Interfaçage via Shiny for Python "
   ]
  },
  {
   "cell_type": "markdown",
   "metadata": {},
   "source": [
    "## 5. Modélisation"
   ]
  },
  {
   "cell_type": "markdown",
   "metadata": {},
   "source": [
    "### 5.1 supervisée (régression, classification) vs non supervisée    "
   ]
  },
  {
   "cell_type": "markdown",
   "metadata": {},
   "source": [
    "### 5.2 paramétrique (économétriques) vs non paramétriques (machine learning)"
   ]
  },
  {
   "cell_type": "markdown",
   "metadata": {},
   "source": [
    "## 6. Analyse des résultats : interprétation, explications "
   ]
  },
  {
   "cell_type": "markdown",
   "metadata": {},
   "source": [
    "### 6.1 Interpretation des résultats"
   ]
  },
  {
   "cell_type": "markdown",
   "metadata": {},
   "source": [
    "## 7. Application : prévision, tarification, etc."
   ]
  },
  {
   "cell_type": "markdown",
   "metadata": {},
   "source": [
    "### 7.1 Prevision and Tarification"
   ]
  }
 ],
 "metadata": {
  "kernelspec": {
   "display_name": "Python 3",
   "language": "python",
   "name": "python3"
  },
  "language_info": {
   "codemirror_mode": {
    "name": "ipython",
    "version": 3
   },
   "file_extension": ".py",
   "mimetype": "text/x-python",
   "name": "python",
   "nbconvert_exporter": "python",
   "pygments_lexer": "ipython3",
   "version": "3.12.0"
  }
 },
 "nbformat": 4,
 "nbformat_minor": 2
}
