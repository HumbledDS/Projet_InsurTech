{
 "cells": [
  {
   "cell_type": "markdown",
   "metadata": {},
   "source": [
    "# PROJET DATA – DU PYTHON\n"
   ]
  },
  {
   "cell_type": "markdown",
   "metadata": {},
   "source": [
    "### Plan du Projet DATA :\n",
    "\n",
    "_____________________________________________________________\n",
    "\n",
    "1. Traitement de données : compréhension des données, analyse de la \n",
    "complétude et de la conformité des données, contrôles de cohérence\n",
    "(univarié/multivarié), gestion des anomalies : mise en place de correctif, \n",
    "exclusions, etc.\n",
    "2. Jointures éventuelles de bases et contrôles \n",
    "3. Analyses descriptives des données : univariée, multivariée, ASD\n",
    "4. Analyse graphique (data visualisation) + Interfaçage via Shiny for Python \n",
    "5. Modélisation : supervisée (régression, classification) vs non supervisée ; \n",
    "paramétrique (économétriques) vs non paramétriques (machine learning)\n",
    "6. Analyse des résultats : interprétation, explications \n",
    "7. Application : prévision, tarification, etc.\n",
    "\n",
    "\n",
    "\n",
    "- Understanding the Problem Statement\n",
    "- 2. Import Data and Required Packages\n",
    "    2.1 Import Packages\n",
    "    2.2 Import Data\n",
    "    2.3 Show top 5\n",
    "- 3. Data Preprocessing \n",
    "    - 3.1 DB_SIN\n",
    "        * 3.1.a Data Check and Cleaning (Missing Values, Duplicates, Data Types, Unique values, Anomalies fix)\n",
    "        * 3.1.b Preprocessing and Exploratory Analysis\n",
    "        * 3.1.c Visualization\n",
    "    - 3.2 DB_CNT\n",
    "        * 3.2.a Data Check and cleaning (Missing Values, Duplicates, Data Types, Unique values)\n",
    "        * 3.2.b Preprocessing and Exploratory Analysis\n",
    "        * 3.2.c Visualization\n",
    "    - 3.3 DB_TELEMATICS\n",
    "        * 3.3.a Data Check and Cleaning (Missing Values, Duplicates, Data Types, Unique values)\n",
    "        * 3.3.b Preprocessing and Exploratory Analysis\n",
    "        * 3.3.c Visualization\n",
    "- 4. DataBase Merges : \n",
    "    * 4.1. Descriptive Data Analysis : Univaried/Multivaried\n",
    "    * 4.2. Analyse graphique (data visualisation) + Interfaçage via Shiny for Python \n",
    "- 5. Modélisation\n",
    "    * 5.1 supervisée (régression, classification) vs non supervisée ; \n",
    "    * 5.2 paramétrique (économétriques) vs non paramétriques (machine learning)\n",
    "- 7. Analyse des résultats : interprétation, explications \n",
    "- 8. Application : prévision, tarification, etc."
   ]
  },
  {
   "cell_type": "markdown",
   "metadata": {},
   "source": [
    "## 1) Statement\n",
    "##### 1.1 Problem statement\n",
    "- Our project revolves around harnessing the potential of recently acquired insurance databases. The objective is to extract meaningful insights and actionable information to enhance our understanding of the insurance landscape.\n",
    "- Given the constraints and in line with industry standards, we have chosen Python as our primary tool for data analysis. Python's versatility and extensive libraries, such as Pandas, NumPy, and Scikit-learn, will be crucial in efficiently handling, processing, and analyzing the vast amounts of insurance data at our disposal.\n",
    "\n",
    "\n",
    "##### 1.2 Import Data and Required Packages\n",
    "- Dataset Source :\n",
    "    * DB_SIN.txt\n",
    "    * DB_CNT.xlsx\n",
    "    * DB_TELEMATICS.csv\n",
    "    "
   ]
  },
  {
   "cell_type": "markdown",
   "metadata": {},
   "source": [
    "## 2. Import Packages\n",
    "  Importing Pandas, Numpy, Matplotlib, Seaborn and Warings Library."
   ]
  },
  {
   "cell_type": "code",
   "execution_count": 1,
   "metadata": {},
   "outputs": [],
   "source": [
    "import numpy as np\n",
    "import pandas as pd\n",
    "import seaborn as sns\n",
    "import matplotlib.pyplot as plt\n",
    "%matplotlib inline\n",
    "import warnings\n",
    "warnings.filterwarnings('ignore')\n",
    "\n",
    "import matplotlib.pyplot as plt\n",
    "import seaborn as sns  # For better aesthetics"
   ]
  },
  {
   "cell_type": "markdown",
   "metadata": {},
   "source": [
    "#### 2.2 Import Data"
   ]
  },
  {
   "cell_type": "code",
   "execution_count": 2,
   "metadata": {},
   "outputs": [],
   "source": [
    "# Read DB_SIN.txt\n",
    "sin_df = pd.read_csv('data/DB_SIN.txt', delimiter='\\t')  # Assuming it's a tab-separated file\n",
    "\n",
    "# Read DB_CNT.xlsx from the sheet named 'DB_CNT'\n",
    "cnt_df = pd.read_excel('data/DB_CNT.xlsx', sheet_name='DB_CNT')\n",
    "\n",
    "# Read DB_Telematics.csv\n",
    "telematics_df = pd.read_csv('data/DB_Telematics.csv', delimiter=';')\n"
   ]
  },
  {
   "cell_type": "markdown",
   "metadata": {},
   "source": [
    "#### 2.3 Show top 5"
   ]
  },
  {
   "cell_type": "code",
   "execution_count": 3,
   "metadata": {},
   "outputs": [
    {
     "data": {
      "text/html": [
       "<div>\n",
       "<style scoped>\n",
       "    .dataframe tbody tr th:only-of-type {\n",
       "        vertical-align: middle;\n",
       "    }\n",
       "\n",
       "    .dataframe tbody tr th {\n",
       "        vertical-align: top;\n",
       "    }\n",
       "\n",
       "    .dataframe thead th {\n",
       "        text-align: right;\n",
       "    }\n",
       "</style>\n",
       "<table border=\"1\" class=\"dataframe\">\n",
       "  <thead>\n",
       "    <tr style=\"text-align: right;\">\n",
       "      <th></th>\n",
       "      <th>Id_pol</th>\n",
       "      <th>NB_Claim</th>\n",
       "      <th>AMT_Claim</th>\n",
       "    </tr>\n",
       "  </thead>\n",
       "  <tbody>\n",
       "    <tr>\n",
       "      <th>0</th>\n",
       "      <td>212433</td>\n",
       "      <td>1</td>\n",
       "      <td>1137,079102</td>\n",
       "    </tr>\n",
       "    <tr>\n",
       "      <th>1</th>\n",
       "      <td>124370</td>\n",
       "      <td>1</td>\n",
       "      <td>3170,102051</td>\n",
       "    </tr>\n",
       "    <tr>\n",
       "      <th>2</th>\n",
       "      <td>208357</td>\n",
       "      <td>1</td>\n",
       "      <td>3753,909668</td>\n",
       "    </tr>\n",
       "    <tr>\n",
       "      <th>3</th>\n",
       "      <td>141403</td>\n",
       "      <td>1</td>\n",
       "      <td>16,03637695</td>\n",
       "    </tr>\n",
       "    <tr>\n",
       "      <th>4</th>\n",
       "      <td>173366</td>\n",
       "      <td>1</td>\n",
       "      <td>41774,71289</td>\n",
       "    </tr>\n",
       "  </tbody>\n",
       "</table>\n",
       "</div>"
      ],
      "text/plain": [
       "   Id_pol NB_Claim    AMT_Claim\n",
       "0  212433        1  1137,079102\n",
       "1  124370        1  3170,102051\n",
       "2  208357        1  3753,909668\n",
       "3  141403        1  16,03637695\n",
       "4  173366        1  41774,71289"
      ]
     },
     "execution_count": 3,
     "metadata": {},
     "output_type": "execute_result"
    }
   ],
   "source": [
    "sin_df.head()"
   ]
  },
  {
   "cell_type": "markdown",
   "metadata": {},
   "source": [
    "We immediately see the disparity on the comma placement in AMT_Claim."
   ]
  },
  {
   "cell_type": "code",
   "execution_count": 4,
   "metadata": {},
   "outputs": [
    {
     "data": {
      "text/html": [
       "<div>\n",
       "<style scoped>\n",
       "    .dataframe tbody tr th:only-of-type {\n",
       "        vertical-align: middle;\n",
       "    }\n",
       "\n",
       "    .dataframe tbody tr th {\n",
       "        vertical-align: top;\n",
       "    }\n",
       "\n",
       "    .dataframe thead th {\n",
       "        text-align: right;\n",
       "    }\n",
       "</style>\n",
       "<table border=\"1\" class=\"dataframe\">\n",
       "  <thead>\n",
       "    <tr style=\"text-align: right;\">\n",
       "      <th></th>\n",
       "      <th>Id_pol</th>\n",
       "      <th>Duration</th>\n",
       "      <th>Insured.age</th>\n",
       "      <th>Insured.sex</th>\n",
       "      <th>Car.age</th>\n",
       "      <th>Marital</th>\n",
       "      <th>Car.use</th>\n",
       "      <th>Credit.score</th>\n",
       "      <th>Region</th>\n",
       "      <th>Annual.miles.drive</th>\n",
       "      <th>Years.noclaims</th>\n",
       "      <th>Territory</th>\n",
       "    </tr>\n",
       "  </thead>\n",
       "  <tbody>\n",
       "    <tr>\n",
       "      <th>0</th>\n",
       "      <td>121744</td>\n",
       "      <td>365</td>\n",
       "      <td>59</td>\n",
       "      <td>Female</td>\n",
       "      <td>5</td>\n",
       "      <td>Single</td>\n",
       "      <td>Private</td>\n",
       "      <td>491.0</td>\n",
       "      <td>Urban</td>\n",
       "      <td>12427.42</td>\n",
       "      <td>40</td>\n",
       "      <td>77</td>\n",
       "    </tr>\n",
       "    <tr>\n",
       "      <th>1</th>\n",
       "      <td>123584</td>\n",
       "      <td>182</td>\n",
       "      <td>32</td>\n",
       "      <td>F</td>\n",
       "      <td>10</td>\n",
       "      <td>Married</td>\n",
       "      <td>Private</td>\n",
       "      <td>730.0</td>\n",
       "      <td>Rural</td>\n",
       "      <td>6213.71</td>\n",
       "      <td>4</td>\n",
       "      <td>89</td>\n",
       "    </tr>\n",
       "    <tr>\n",
       "      <th>2</th>\n",
       "      <td>133223</td>\n",
       "      <td>365</td>\n",
       "      <td>59</td>\n",
       "      <td>F</td>\n",
       "      <td>9</td>\n",
       "      <td>Single</td>\n",
       "      <td>Commute</td>\n",
       "      <td>689.0</td>\n",
       "      <td>Rural</td>\n",
       "      <td>12427.42</td>\n",
       "      <td>41</td>\n",
       "      <td>85</td>\n",
       "    </tr>\n",
       "    <tr>\n",
       "      <th>3</th>\n",
       "      <td>124356</td>\n",
       "      <td>237</td>\n",
       "      <td>54</td>\n",
       "      <td>Male</td>\n",
       "      <td>8</td>\n",
       "      <td>Married</td>\n",
       "      <td>Commute</td>\n",
       "      <td>794.0</td>\n",
       "      <td>Urban</td>\n",
       "      <td>6213.71</td>\n",
       "      <td>37</td>\n",
       "      <td>70</td>\n",
       "    </tr>\n",
       "    <tr>\n",
       "      <th>4</th>\n",
       "      <td>192713</td>\n",
       "      <td>365</td>\n",
       "      <td>40</td>\n",
       "      <td>Female</td>\n",
       "      <td>0</td>\n",
       "      <td>Married</td>\n",
       "      <td>Commute</td>\n",
       "      <td>880.0</td>\n",
       "      <td>Urban</td>\n",
       "      <td>12427.42</td>\n",
       "      <td>8</td>\n",
       "      <td>76</td>\n",
       "    </tr>\n",
       "  </tbody>\n",
       "</table>\n",
       "</div>"
      ],
      "text/plain": [
       "   Id_pol  Duration  Insured.age Insured.sex  Car.age  Marital  Car.use  \\\n",
       "0  121744       365           59      Female        5   Single  Private   \n",
       "1  123584       182           32           F       10  Married  Private   \n",
       "2  133223       365           59           F        9   Single  Commute   \n",
       "3  124356       237           54        Male        8  Married  Commute   \n",
       "4  192713       365           40      Female        0  Married  Commute   \n",
       "\n",
       "   Credit.score Region  Annual.miles.drive Years.noclaims  Territory  \n",
       "0         491.0  Urban            12427.42             40         77  \n",
       "1         730.0  Rural             6213.71              4         89  \n",
       "2         689.0  Rural            12427.42             41         85  \n",
       "3         794.0  Urban             6213.71             37         70  \n",
       "4         880.0  Urban            12427.42              8         76  "
      ]
     },
     "execution_count": 4,
     "metadata": {},
     "output_type": "execute_result"
    }
   ],
   "source": [
    "cnt_df.head()"
   ]
  },
  {
   "cell_type": "markdown",
   "metadata": {},
   "source": [
    "We notice some matter in Insured.sex inputs, we will investigate it further."
   ]
  },
  {
   "cell_type": "code",
   "execution_count": 5,
   "metadata": {},
   "outputs": [
    {
     "data": {
      "text/html": [
       "<div>\n",
       "<style scoped>\n",
       "    .dataframe tbody tr th:only-of-type {\n",
       "        vertical-align: middle;\n",
       "    }\n",
       "\n",
       "    .dataframe tbody tr th {\n",
       "        vertical-align: top;\n",
       "    }\n",
       "\n",
       "    .dataframe thead th {\n",
       "        text-align: right;\n",
       "    }\n",
       "</style>\n",
       "<table border=\"1\" class=\"dataframe\">\n",
       "  <thead>\n",
       "    <tr style=\"text-align: right;\">\n",
       "      <th></th>\n",
       "      <th>Id_pol</th>\n",
       "      <th>Annual.pct.driven</th>\n",
       "      <th>Total.miles.driven</th>\n",
       "      <th>Pct.drive.mon</th>\n",
       "      <th>Pct.drive.tue</th>\n",
       "      <th>Pct.drive.wed</th>\n",
       "      <th>Pct.drive.thr</th>\n",
       "      <th>Pct.drive.fri</th>\n",
       "      <th>Pct.drive.sat</th>\n",
       "      <th>Pct.drive.sun</th>\n",
       "      <th>...</th>\n",
       "      <th>Left.turn.intensity08</th>\n",
       "      <th>Left.turn.intensity09</th>\n",
       "      <th>Left.turn.intensity10</th>\n",
       "      <th>Left.turn.intensity11</th>\n",
       "      <th>Left.turn.intensity12</th>\n",
       "      <th>Right.turn.intensity08</th>\n",
       "      <th>Right.turn.intensity09</th>\n",
       "      <th>Right.turn.intensity10</th>\n",
       "      <th>Right.turn.intensity11</th>\n",
       "      <th>Right.turn.intensity12</th>\n",
       "    </tr>\n",
       "  </thead>\n",
       "  <tbody>\n",
       "    <tr>\n",
       "      <th>0</th>\n",
       "      <td>cnt_122389</td>\n",
       "      <td>0,997260274</td>\n",
       "      <td>5372,837273</td>\n",
       "      <td>0,192885196</td>\n",
       "      <td>0,169068979</td>\n",
       "      <td>0,197889028</td>\n",
       "      <td>0,184917416</td>\n",
       "      <td>0,16189224</td>\n",
       "      <td>0,056223054</td>\n",
       "      <td>0,037124086</td>\n",
       "      <td>...</td>\n",
       "      <td>2366.0</td>\n",
       "      <td>1609.0</td>\n",
       "      <td>751.0</td>\n",
       "      <td>339.0</td>\n",
       "      <td>107.0</td>\n",
       "      <td>766.0</td>\n",
       "      <td>366.0</td>\n",
       "      <td>91.0</td>\n",
       "      <td>35.0</td>\n",
       "      <td>8.0</td>\n",
       "    </tr>\n",
       "    <tr>\n",
       "      <th>1</th>\n",
       "      <td>cnt_125019</td>\n",
       "      <td>0,912328767</td>\n",
       "      <td>5780,818246</td>\n",
       "      <td>0,103235423</td>\n",
       "      <td>0,11866897</td>\n",
       "      <td>0,107923307</td>\n",
       "      <td>0,137310889</td>\n",
       "      <td>0,174103462</td>\n",
       "      <td>0,203041338</td>\n",
       "      <td>0,155716612</td>\n",
       "      <td>...</td>\n",
       "      <td>4.0</td>\n",
       "      <td>1.0</td>\n",
       "      <td>0.0</td>\n",
       "      <td>0.0</td>\n",
       "      <td>0.0</td>\n",
       "      <td>5.0</td>\n",
       "      <td>0.0</td>\n",
       "      <td>0.0</td>\n",
       "      <td>0.0</td>\n",
       "      <td>0.0</td>\n",
       "    </tr>\n",
       "    <tr>\n",
       "      <th>2</th>\n",
       "      <td>cnt_181154</td>\n",
       "      <td>0,526027397</td>\n",
       "      <td>9149,738331</td>\n",
       "      <td>0,116469365</td>\n",
       "      <td>0,145887688</td>\n",
       "      <td>0,13527532</td>\n",
       "      <td>0,173257616</td>\n",
       "      <td>0,160496263</td>\n",
       "      <td>0,084183125</td>\n",
       "      <td>0,184430624</td>\n",
       "      <td>...</td>\n",
       "      <td>0.0</td>\n",
       "      <td>0.0</td>\n",
       "      <td>0.0</td>\n",
       "      <td>0.0</td>\n",
       "      <td>0.0</td>\n",
       "      <td>0.0</td>\n",
       "      <td>0.0</td>\n",
       "      <td>0.0</td>\n",
       "      <td>0.0</td>\n",
       "      <td>0.0</td>\n",
       "    </tr>\n",
       "    <tr>\n",
       "      <th>3</th>\n",
       "      <td>cnt_140021</td>\n",
       "      <td>1</td>\n",
       "      <td>10582,26663</td>\n",
       "      <td>0,144175656</td>\n",
       "      <td>0,151476187</td>\n",
       "      <td>0,168558752</td>\n",
       "      <td>0,171549272</td>\n",
       "      <td>0,177907998</td>\n",
       "      <td>0,114748693</td>\n",
       "      <td>0,071583442</td>\n",
       "      <td>...</td>\n",
       "      <td>736.0</td>\n",
       "      <td>295.0</td>\n",
       "      <td>58.0</td>\n",
       "      <td>16.0</td>\n",
       "      <td>6.0</td>\n",
       "      <td>656.0</td>\n",
       "      <td>294.0</td>\n",
       "      <td>65.0</td>\n",
       "      <td>18.0</td>\n",
       "      <td>4.0</td>\n",
       "    </tr>\n",
       "    <tr>\n",
       "      <th>4</th>\n",
       "      <td>cnt_170356</td>\n",
       "      <td>0,75890411</td>\n",
       "      <td>9412,021708</td>\n",
       "      <td>0,109676276</td>\n",
       "      <td>0,152352793</td>\n",
       "      <td>0,151707136</td>\n",
       "      <td>0,160847296</td>\n",
       "      <td>0,140824794</td>\n",
       "      <td>0,151463464</td>\n",
       "      <td>0,133128241</td>\n",
       "      <td>...</td>\n",
       "      <td>33.0</td>\n",
       "      <td>12.0</td>\n",
       "      <td>2.0</td>\n",
       "      <td>1.0</td>\n",
       "      <td>0.0</td>\n",
       "      <td>39.0</td>\n",
       "      <td>14.0</td>\n",
       "      <td>2.0</td>\n",
       "      <td>0.0</td>\n",
       "      <td>0.0</td>\n",
       "    </tr>\n",
       "  </tbody>\n",
       "</table>\n",
       "<p>5 rows × 40 columns</p>\n",
       "</div>"
      ],
      "text/plain": [
       "       Id_pol Annual.pct.driven Total.miles.driven Pct.drive.mon  \\\n",
       "0  cnt_122389       0,997260274        5372,837273   0,192885196   \n",
       "1  cnt_125019       0,912328767        5780,818246   0,103235423   \n",
       "2  cnt_181154       0,526027397        9149,738331   0,116469365   \n",
       "3  cnt_140021                 1        10582,26663   0,144175656   \n",
       "4  cnt_170356        0,75890411        9412,021708   0,109676276   \n",
       "\n",
       "  Pct.drive.tue Pct.drive.wed Pct.drive.thr Pct.drive.fri Pct.drive.sat  \\\n",
       "0   0,169068979   0,197889028   0,184917416    0,16189224   0,056223054   \n",
       "1    0,11866897   0,107923307   0,137310889   0,174103462   0,203041338   \n",
       "2   0,145887688    0,13527532   0,173257616   0,160496263   0,084183125   \n",
       "3   0,151476187   0,168558752   0,171549272   0,177907998   0,114748693   \n",
       "4   0,152352793   0,151707136   0,160847296   0,140824794   0,151463464   \n",
       "\n",
       "  Pct.drive.sun  ... Left.turn.intensity08 Left.turn.intensity09  \\\n",
       "0   0,037124086  ...                2366.0                1609.0   \n",
       "1   0,155716612  ...                   4.0                   1.0   \n",
       "2   0,184430624  ...                   0.0                   0.0   \n",
       "3   0,071583442  ...                 736.0                 295.0   \n",
       "4   0,133128241  ...                  33.0                  12.0   \n",
       "\n",
       "  Left.turn.intensity10 Left.turn.intensity11 Left.turn.intensity12  \\\n",
       "0                 751.0                 339.0                 107.0   \n",
       "1                   0.0                   0.0                   0.0   \n",
       "2                   0.0                   0.0                   0.0   \n",
       "3                  58.0                  16.0                   6.0   \n",
       "4                   2.0                   1.0                   0.0   \n",
       "\n",
       "  Right.turn.intensity08 Right.turn.intensity09 Right.turn.intensity10  \\\n",
       "0                  766.0                  366.0                   91.0   \n",
       "1                    5.0                    0.0                    0.0   \n",
       "2                    0.0                    0.0                    0.0   \n",
       "3                  656.0                  294.0                   65.0   \n",
       "4                   39.0                   14.0                    2.0   \n",
       "\n",
       "   Right.turn.intensity11  Right.turn.intensity12  \n",
       "0                    35.0                     8.0  \n",
       "1                     0.0                     0.0  \n",
       "2                     0.0                     0.0  \n",
       "3                    18.0                     4.0  \n",
       "4                     0.0                     0.0  \n",
       "\n",
       "[5 rows x 40 columns]"
      ]
     },
     "execution_count": 5,
     "metadata": {},
     "output_type": "execute_result"
    }
   ],
   "source": [
    "telematics_df.head()"
   ]
  },
  {
   "cell_type": "markdown",
   "metadata": {},
   "source": [
    "## 3. Data Preprocessing "
   ]
  },
  {
   "cell_type": "markdown",
   "metadata": {},
   "source": [
    "### 3.1 : DB_Sin"
   ]
  },
  {
   "cell_type": "markdown",
   "metadata": {},
   "source": [
    "   - 3.1.a : Data Check and Cleaning (Missing Values, Duplicates, Data Types, Unique values, Anomalies fix)"
   ]
  },
  {
   "cell_type": "code",
   "execution_count": 6,
   "metadata": {},
   "outputs": [
    {
     "data": {
      "text/plain": [
       "(4337, 3)"
      ]
     },
     "execution_count": 6,
     "metadata": {},
     "output_type": "execute_result"
    }
   ],
   "source": [
    "sin_df.shape"
   ]
  },
  {
   "cell_type": "code",
   "execution_count": 7,
   "metadata": {},
   "outputs": [
    {
     "data": {
      "text/plain": [
       "Id_pol       0\n",
       "NB_Claim     0\n",
       "AMT_Claim    0\n",
       "dtype: int64"
      ]
     },
     "execution_count": 7,
     "metadata": {},
     "output_type": "execute_result"
    }
   ],
   "source": [
    "sin_df.isna().sum()"
   ]
  },
  {
   "cell_type": "code",
   "execution_count": 8,
   "metadata": {},
   "outputs": [
    {
     "name": "stdout",
     "output_type": "stream",
     "text": [
      "DB_SIN.txt DataFrame:\n",
      "<class 'pandas.core.frame.DataFrame'>\n",
      "RangeIndex: 4337 entries, 0 to 4336\n",
      "Data columns (total 3 columns):\n",
      " #   Column     Non-Null Count  Dtype \n",
      "---  ------     --------------  ----- \n",
      " 0   Id_pol     4337 non-null   int64 \n",
      " 1   NB_Claim   4337 non-null   object\n",
      " 2   AMT_Claim  4337 non-null   object\n",
      "dtypes: int64(1), object(2)\n",
      "memory usage: 101.8+ KB\n",
      "None\n"
     ]
    }
   ],
   "source": [
    "print(\"DB_SIN.txt DataFrame:\")\n",
    "print(sin_df.info())"
   ]
  },
  {
   "cell_type": "code",
   "execution_count": 9,
   "metadata": {},
   "outputs": [
    {
     "name": "stdout",
     "output_type": "stream",
     "text": [
      "Unique values in 'NB_Claim':\n",
      "['1' '2' 'NB_CLAIM:1' 'NB_CLAIM:2' '3']\n"
     ]
    }
   ],
   "source": [
    "numeric_summary = sin_df['NB_Claim'].describe()\n",
    "numeric_summary\n",
    "unique_values = sin_df['NB_Claim'].unique()\n",
    "\n",
    "# Display the unique values\n",
    "print(\"Unique values in 'NB_Claim':\")\n",
    "print(unique_values)"
   ]
  },
  {
   "cell_type": "code",
   "execution_count": 10,
   "metadata": {},
   "outputs": [
    {
     "name": "stdout",
     "output_type": "stream",
     "text": [
      "Unique values in 'NB_Claim':\n",
      "['1' '2' '3']\n"
     ]
    }
   ],
   "source": [
    "# Replace specific values in 'NB_Claim'\n",
    "sin_df['NB_Claim'] = sin_df['NB_Claim'].replace({'NB_CLAIM:1': '1', 'NB_CLAIM:2': '2'})\n",
    "\n",
    "unique_values = sin_df['NB_Claim'].unique()\n",
    "print(\"Unique values in 'NB_Claim':\")\n",
    "print(unique_values)\n"
   ]
  },
  {
   "cell_type": "code",
   "execution_count": 11,
   "metadata": {},
   "outputs": [
    {
     "name": "stdout",
     "output_type": "stream",
     "text": [
      "Numeric Summary:\n",
      "              Id_pol\n",
      "count    4337.000000\n",
      "mean   170183.869264\n",
      "std     29131.411617\n",
      "min    100210.000000\n",
      "25%    145343.000000\n",
      "50%    170597.000000\n",
      "75%    195469.000000\n",
      "max    221064.000000\n",
      "\n",
      "Object Summary:\n",
      "       NB_Claim AMT_Claim\n",
      "count      4337      4337\n",
      "unique        3      3851\n",
      "top           1         0\n",
      "freq       4154       436\n"
     ]
    }
   ],
   "source": [
    "# Display descriptive statistics for numeric columns\n",
    "numeric_summary = sin_df.describe()\n",
    "\n",
    "# Display summary for object columns\n",
    "object_summary = sin_df.describe(include='object')\n",
    "\n",
    "# Display the results\n",
    "print(\"Numeric Summary:\")\n",
    "print(numeric_summary)\n",
    "\n",
    "print(\"\\nObject Summary:\")\n",
    "print(object_summary)\n"
   ]
  },
  {
   "cell_type": "markdown",
   "metadata": {},
   "source": [
    "We will have to turn NB_Claim and AMT_Claim to integers."
   ]
  },
  {
   "cell_type": "code",
   "execution_count": 12,
   "metadata": {},
   "outputs": [
    {
     "name": "stdout",
     "output_type": "stream",
     "text": [
      "Unique values and their counts in 'AMT_Claim':\n",
      "AMT_Claim\n",
      "0              436\n",
      "ANN             37\n",
      "279,9525146      9\n",
      "477,3110047      7\n",
      "1710,054932      2\n",
      "              ... \n",
      "9324,375         1\n",
      "1164,303863      1\n",
      "1625,644409      1\n",
      "4381,549073      1\n",
      "6034,40625       1\n",
      "Name: count, Length: 3851, dtype: int64\n"
     ]
    }
   ],
   "source": [
    "# Display unique values and their counts in 'AMT_Claim'\n",
    "unique_values_counts = sin_df['AMT_Claim'].value_counts(dropna=False)\n",
    "\n",
    "# Display the results\n",
    "print(\"Unique values and their counts in 'AMT_Claim':\")\n",
    "print(unique_values_counts)\n"
   ]
  },
  {
   "cell_type": "markdown",
   "metadata": {},
   "source": [
    "Lets fix the ANN situation, we will turn ANN (NaN's) into 0. and convert them to integers since these values are \"amounts\".\n",
    "Secondly, we will take off the decimal part since it'll be easier for operations. AMT_Claim is the Agregated Amount of CLAIM (probably in dollars $, € or £)"
   ]
  },
  {
   "cell_type": "code",
   "execution_count": 13,
   "metadata": {},
   "outputs": [],
   "source": [
    "# Convert 'AMT_Claim' to numeric (replace 'ANN' with 0)\n",
    "sin_df['AMT_Claim'] = sin_df['AMT_Claim'].replace({'ANN': '0'})\n",
    "\n",
    "# Extract the part before the comma and convert to numeric\n",
    "sin_df['AMT_Claim'] = sin_df['AMT_Claim'].astype(str).str.split(',').str[0]\n",
    "sin_df['AMT_Claim'] = pd.to_numeric(sin_df['AMT_Claim'], errors='coerce')"
   ]
  },
  {
   "cell_type": "code",
   "execution_count": 14,
   "metadata": {},
   "outputs": [
    {
     "name": "stdout",
     "output_type": "stream",
     "text": [
      "Unique values and their counts in 'AMT_Claim':\n",
      "AMT_Claim\n",
      "0       474\n",
      "279      12\n",
      "477      10\n",
      "293       6\n",
      "299       5\n",
      "       ... \n",
      "703       1\n",
      "202       1\n",
      "4163      1\n",
      "2438      1\n",
      "6034      1\n",
      "Name: count, Length: 2887, dtype: int64\n"
     ]
    }
   ],
   "source": [
    "# Display unique values and their counts in 'AMT_Claim'\n",
    "unique_values_counts = sin_df['AMT_Claim'].value_counts(dropna=False)\n",
    "\n",
    "# Display the results\n",
    "print(\"Unique values and their counts in 'AMT_Claim':\")\n",
    "print(unique_values_counts)"
   ]
  },
  {
   "cell_type": "code",
   "execution_count": 15,
   "metadata": {},
   "outputs": [],
   "source": [
    "# Convert 'NB_Claim' to numeric (replace ',' with '.' if needed)\n",
    "sin_df['NB_Claim'] = pd.to_numeric(sin_df['NB_Claim'].str.replace(',', '.'), errors='coerce')"
   ]
  },
  {
   "cell_type": "code",
   "execution_count": 16,
   "metadata": {},
   "outputs": [
    {
     "name": "stdout",
     "output_type": "stream",
     "text": [
      "DB_SIN.txt DataFrame:\n",
      "<class 'pandas.core.frame.DataFrame'>\n",
      "RangeIndex: 4337 entries, 0 to 4336\n",
      "Data columns (total 3 columns):\n",
      " #   Column     Non-Null Count  Dtype\n",
      "---  ------     --------------  -----\n",
      " 0   Id_pol     4337 non-null   int64\n",
      " 1   NB_Claim   4337 non-null   int64\n",
      " 2   AMT_Claim  4337 non-null   int64\n",
      "dtypes: int64(3)\n",
      "memory usage: 101.8 KB\n",
      "None\n"
     ]
    }
   ],
   "source": [
    "print(\"DB_SIN.txt DataFrame:\")\n",
    "print(sin_df.info())"
   ]
  },
  {
   "cell_type": "markdown",
   "metadata": {},
   "source": [
    "#### Conclusion for Sin_DF data prepocessing : \n",
    "For the SIN_DF data we did the following things to clean up the data :\n",
    "1. NB_Claim : We managed to have 3 differents inputs ('1','2','3') and put them as integers\n",
    "2. AMT_Claim : we managed to put the values as integers and \n",
    "3. Turned all ANN (NaN's) to 0\n",
    "4. We corrected the 'comma'/'point' situation for the numeric values\n"
   ]
  },
  {
   "cell_type": "markdown",
   "metadata": {},
   "source": [
    "#### 3.1.b Preprocessing and Exploratory Analysis"
   ]
  },
  {
   "cell_type": "code",
   "execution_count": 17,
   "metadata": {},
   "outputs": [
    {
     "data": {
      "text/html": [
       "<div>\n",
       "<style scoped>\n",
       "    .dataframe tbody tr th:only-of-type {\n",
       "        vertical-align: middle;\n",
       "    }\n",
       "\n",
       "    .dataframe tbody tr th {\n",
       "        vertical-align: top;\n",
       "    }\n",
       "\n",
       "    .dataframe thead th {\n",
       "        text-align: right;\n",
       "    }\n",
       "</style>\n",
       "<table border=\"1\" class=\"dataframe\">\n",
       "  <thead>\n",
       "    <tr style=\"text-align: right;\">\n",
       "      <th></th>\n",
       "      <th>Id_pol</th>\n",
       "      <th>NB_Claim</th>\n",
       "      <th>AMT_Claim</th>\n",
       "    </tr>\n",
       "  </thead>\n",
       "  <tbody>\n",
       "    <tr>\n",
       "      <th>count</th>\n",
       "      <td>4337.000000</td>\n",
       "      <td>4337.000000</td>\n",
       "      <td>4337.000000</td>\n",
       "    </tr>\n",
       "    <tr>\n",
       "      <th>mean</th>\n",
       "      <td>170183.869264</td>\n",
       "      <td>1.044731</td>\n",
       "      <td>3135.737376</td>\n",
       "    </tr>\n",
       "    <tr>\n",
       "      <th>std</th>\n",
       "      <td>29131.411617</td>\n",
       "      <td>0.218664</td>\n",
       "      <td>5136.336391</td>\n",
       "    </tr>\n",
       "    <tr>\n",
       "      <th>min</th>\n",
       "      <td>100210.000000</td>\n",
       "      <td>1.000000</td>\n",
       "      <td>0.000000</td>\n",
       "    </tr>\n",
       "    <tr>\n",
       "      <th>25%</th>\n",
       "      <td>145343.000000</td>\n",
       "      <td>1.000000</td>\n",
       "      <td>491.000000</td>\n",
       "    </tr>\n",
       "    <tr>\n",
       "      <th>50%</th>\n",
       "      <td>170597.000000</td>\n",
       "      <td>1.000000</td>\n",
       "      <td>1668.000000</td>\n",
       "    </tr>\n",
       "    <tr>\n",
       "      <th>75%</th>\n",
       "      <td>195469.000000</td>\n",
       "      <td>1.000000</td>\n",
       "      <td>3702.000000</td>\n",
       "    </tr>\n",
       "    <tr>\n",
       "      <th>max</th>\n",
       "      <td>221064.000000</td>\n",
       "      <td>3.000000</td>\n",
       "      <td>104074.000000</td>\n",
       "    </tr>\n",
       "  </tbody>\n",
       "</table>\n",
       "</div>"
      ],
      "text/plain": [
       "              Id_pol     NB_Claim      AMT_Claim\n",
       "count    4337.000000  4337.000000    4337.000000\n",
       "mean   170183.869264     1.044731    3135.737376\n",
       "std     29131.411617     0.218664    5136.336391\n",
       "min    100210.000000     1.000000       0.000000\n",
       "25%    145343.000000     1.000000     491.000000\n",
       "50%    170597.000000     1.000000    1668.000000\n",
       "75%    195469.000000     1.000000    3702.000000\n",
       "max    221064.000000     3.000000  104074.000000"
      ]
     },
     "execution_count": 17,
     "metadata": {},
     "output_type": "execute_result"
    }
   ],
   "source": [
    "sin_df.describe()"
   ]
  },
  {
   "cell_type": "markdown",
   "metadata": {},
   "source": [
    "- The mean amount of AMT_Claim is 3136.  \n",
    "- The max amount is 104074.  \n",
    "- Most of the people (75%) gets above 3702.  \n",
    "- 474 (around 10%) did get 0.  \n",
    "\n",
    "We can look to see which category of 'NB_Claim' get the most of money (A boxplot with outliers would give the hint)."
   ]
  },
  {
   "cell_type": "markdown",
   "metadata": {},
   "source": [
    "#### 3.1.c Visualization\n",
    "\n",
    "- "
   ]
  },
  {
   "cell_type": "code",
   "execution_count": 18,
   "metadata": {},
   "outputs": [
    {
     "data": {
      "image/png": "[encoded data removed]",
      "text/plain": [
       "<Figure size 640x480 with 1 Axes>"
      ]
     },
     "metadata": {},
     "output_type": "display_data"
    }
   ],
   "source": [
    "sns.boxplot(x='NB_Claim', y='AMT_Claim', data=sin_df, hue='NB_Claim')\n",
    "plt.title('Boxplot of AMT_Claim by NB_Claim')\n",
    "plt.show()"
   ]
  },
  {
   "cell_type": "markdown",
   "metadata": {},
   "source": [
    "Visualizing the Boxplot of AMT_Claim by NB_Claim we notice the outliers on each category of NB_Claim.  \n",
    "While the mean is around 3136 FOR AMT_Claim we observe values going from 10.000 to 104.000 for NB_Claim == 1.  "
   ]
  },
  {
   "cell_type": "markdown",
   "metadata": {},
   "source": [
    "### 3.2 : DB_CNT"
   ]
  },
  {
   "cell_type": "markdown",
   "metadata": {},
   "source": [
    "   - 3.2.a : Data Check and Cleaning (Missing Values, Duplicates, Data Types, Unique values, Anomalies fix)"
   ]
  },
  {
   "cell_type": "code",
   "execution_count": 19,
   "metadata": {},
   "outputs": [
    {
     "name": "stdout",
     "output_type": "stream",
     "text": [
      "\n",
      "DB_CNT.xlsx DataFrame:\n",
      "<class 'pandas.core.frame.DataFrame'>\n",
      "RangeIndex: 100399 entries, 0 to 100398\n",
      "Data columns (total 12 columns):\n",
      " #   Column              Non-Null Count   Dtype  \n",
      "---  ------              --------------   -----  \n",
      " 0   Id_pol              100399 non-null  int64  \n",
      " 1   Duration            100399 non-null  int64  \n",
      " 2   Insured.age         100399 non-null  int64  \n",
      " 3   Insured.sex         100399 non-null  object \n",
      " 4   Car.age             100399 non-null  int64  \n",
      " 5   Marital             100307 non-null  object \n",
      " 6   Car.use             100399 non-null  object \n",
      " 7   Credit.score        100399 non-null  float64\n",
      " 8   Region              100271 non-null  object \n",
      " 9   Annual.miles.drive  100399 non-null  float64\n",
      " 10  Years.noclaims      100399 non-null  object \n",
      " 11  Territory           100399 non-null  int64  \n",
      "dtypes: float64(2), int64(5), object(5)\n",
      "memory usage: 9.2+ MB\n",
      "None\n"
     ]
    }
   ],
   "source": [
    "print(\"\\nDB_CNT.xlsx DataFrame:\")\n",
    "print(cnt_df.info())\n"
   ]
  },
  {
   "cell_type": "markdown",
   "metadata": {},
   "source": [
    "#### The DataSet is shaped as (100399, 12). 100399 rows and 12 columns.  \n",
    "- Duration : Duration of the insurance coverage of a given policy, in days  \n",
    "- Insured.age : Age of insured driver, in years  \n",
    "- Insured.sex : Sex of insured driver (Male/Female)  \n",
    "- Car.age : Age of vehicle, in years  \n",
    "- Marital : Marital status (Single/Married)  \n",
    "- Car.use : Use of vehicle: Private, Commute, Farmer, Commercial  \n",
    "- Credit.score : Credit score of insured driver  \n",
    "- Region  : Type of region where driver lives: rural, urban  \n",
    "- Annual.miles.drive : Annual miles expected to be driven declared by driver  \n",
    "- Years.noclaims : Number of years without any claims  \n",
    "- Territory : Territorial location of vehicle  "
   ]
  },
  {
   "cell_type": "markdown",
   "metadata": {},
   "source": [
    "Conditions to meet :   \n",
    "• Duration is the period that policyholder is insured in days, with values in [22,366].  \n",
    "• Insured.age is the age of insured driver in integral years, with values in [16,103].  \n",
    "• Car.age is the age of vehicle, with values in [-2,20]. Negative values are rare but are possible as buying a newer model can be up to two years in advance.  \n",
    "• Years.noclaims is the number of years without any claims, with values in [0, 79] and\n",
    "always less than Insured.age.  \n",
    "• Territory is the territorial location code of vehicle, which has 55 labels in {11,12,13,· · · ,91}.  "
   ]
  },
  {
   "cell_type": "code",
   "execution_count": 20,
   "metadata": {},
   "outputs": [
    {
     "name": "stdout",
     "output_type": "stream",
     "text": [
      "Unique values in 'Insured.sex':\n",
      "['Female' 'F' 'Male' 'H' 'Unknown']\n",
      "\n",
      "Unique values in 'Marital':\n",
      "['Single' 'Married' 'Celib' 'Marié' nan]\n",
      "\n",
      "Unique values in 'Car.use':\n",
      "['Private' 'Commute' 25 'Commercial' 'Farmer' ' ' 14 47 100 54 21 80 95 8\n",
      " 10 74 94 26 17 34 29 96 78 11 1 6 19 69 85 52 42 88 72 99 24 84 15 71 53\n",
      " 40 64 9 59 55 46 82 66 0 32 39 36 23 51 '  ' '??' 92 57 22 65 87 63 35 16\n",
      " 62 50 90 70 3 12 5 68 75 4 18 76 2 89 83 7 73 77 27 91 61 20 '???' 33 93\n",
      " 13 38 45 81 '?' 86 48 49 60 97 58 43 67 '     ' 44 37 '????' 41 28 'Inc'\n",
      " 30 'Ukwn' 31]\n",
      "\n",
      "Unique values in 'Region':\n",
      "['Urban' 'Rural' nan]\n",
      "\n",
      "Unique values in 'Years.noclaims':\n",
      "[40 4 41 37 8 6 57 23 28 54 3 10 21 30 66 43 13 31 17 32 26 34 25 27 45 33\n",
      " 24 11 51 39 22 15 46 19 20 5 44 42 36 29 59 62 55 58 12 1 9 50 47 2 48\n",
      " 'EAJ' 35 18 49 7 56 14 38 52 63 67 16 53 65 0 61 64 60 68 69 72 70 74 73\n",
      " 76 75 71 77 78 79 85 82 80]\n",
      "\n"
     ]
    }
   ],
   "source": [
    "# Filter object variables\n",
    "object_columns = cnt_df.select_dtypes(include='object').columns\n",
    "\n",
    "# Display unique values for each object variable\n",
    "for column in object_columns:\n",
    "    unique_values = cnt_df[column].unique()\n",
    "    print(f\"Unique values in '{column}':\")\n",
    "    print(unique_values)\n",
    "    print()"
   ]
  },
  {
   "cell_type": "markdown",
   "metadata": {},
   "source": [
    "##### Imputation of missing Values, and Miss-written Inputs.\n",
    "We will proceed as following :\n",
    "\n",
    "- Insured.Sex : We will match inputs as Male, Female  \n",
    "- Marital : Single, Married  \n",
    "- Car use : Private, Commute, Farmer, Commercial. We will use Territory values to commute to the right car use value.  \n",
    "- Region : Urban, Rural. With help of terrority we will find the right Region for missing values.  \n",
    "- Year.noclaims : EAJ > 0, Then we will turn the column to integer.  "
   ]
  },
  {
   "cell_type": "code",
   "execution_count": 21,
   "metadata": {},
   "outputs": [
    {
     "name": "stdout",
     "output_type": "stream",
     "text": [
      "Count of unique values in 'Insured.sex':\n",
      "Insured.sex\n",
      "Male       45932\n",
      "Female     39065\n",
      "H           8165\n",
      "F           7124\n",
      "Unknown      113\n",
      "Name: count, dtype: int64\n",
      "\n",
      "Count of unique values in 'Region':\n",
      "Region\n",
      "Urban    78358\n",
      "Rural    21913\n",
      "Name: count, dtype: int64\n",
      "\n",
      "Count of unique values in 'Marital':\n",
      "Marital\n",
      "Married    65666\n",
      "Single     28214\n",
      "Marié       4467\n",
      "Celib       1960\n",
      "Name: count, dtype: int64\n"
     ]
    }
   ],
   "source": [
    "# Count occurrences of unique values in 'Insured.sex'\n",
    "sex_counts = cnt_df['Insured.sex'].value_counts()\n",
    "\n",
    "# Display the result\n",
    "print(\"Count of unique values in 'Insured.sex':\")\n",
    "print(sex_counts)\n",
    "print()\n",
    "\n",
    "# Count occurrences of unique values in 'Region'\n",
    "Region_counts = cnt_df['Region'].value_counts()\n",
    "\n",
    "# Display the result\n",
    "print(\"Count of unique values in 'Region':\")\n",
    "print(Region_counts)\n",
    "print()\n",
    "\n",
    "# Count occurrences of unique values in 'Marital'\n",
    "marital_counts = cnt_df['Marital'].value_counts()\n",
    "\n",
    "# Display the result\n",
    "print(\"Count of unique values in 'Marital':\")\n",
    "print(marital_counts)\n"
   ]
  },
  {
   "cell_type": "code",
   "execution_count": 22,
   "metadata": {},
   "outputs": [
    {
     "name": "stdout",
     "output_type": "stream",
     "text": [
      "Count of unique values in 'Insured.sex' after mapping:\n",
      "Insured.sex\n",
      "Male      54210\n",
      "Female    46189\n",
      "Name: count, dtype: int64\n"
     ]
    }
   ],
   "source": [
    "# Map values in 'Insured.sex'\n",
    "sex_mapping = {'Male': ['Male', 'H', 'Unknown'], 'Female': ['Female', 'F']}\n",
    "\n",
    "# Replace values in 'Insured.sex'\n",
    "for category, values in sex_mapping.items():\n",
    "    cnt_df['Insured.sex'] = cnt_df['Insured.sex'].replace(values, category)\n",
    "\n",
    "# Verify the result\n",
    "sex_counts_after_mapping = cnt_df['Insured.sex'].value_counts()\n",
    "print(\"Count of unique values in 'Insured.sex' after mapping:\")\n",
    "print(sex_counts_after_mapping)"
   ]
  },
  {
   "cell_type": "code",
   "execution_count": 23,
   "metadata": {},
   "outputs": [
    {
     "name": "stdout",
     "output_type": "stream",
     "text": [
      "Count of unique values in 'Marital' after mapping:\n",
      "Marital\n",
      "Married    70133\n",
      "Single     30266\n",
      "Name: count, dtype: int64\n"
     ]
    }
   ],
   "source": [
    "# Map values in 'Marital'\n",
    "marital_mapping = {'Single': ['Single', 'Celib'], 'Married': ['Married', 'Marié']}\n",
    "\n",
    "# Replace values in 'Marital'\n",
    "for category, values in marital_mapping.items():\n",
    "    cnt_df['Marital'] = cnt_df['Marital'].replace(values, category)\n",
    "\n",
    "# Add 'Unknown' and NaN to 'Single'\n",
    "cnt_df['Marital'] = cnt_df['Marital'].fillna('Single')\n",
    "cnt_df['Marital'] = cnt_df['Marital'].replace('Unknown', 'Single')\n",
    "\n",
    "# Verify the result\n",
    "marital_counts_after_mapping = cnt_df['Marital'].value_counts()\n",
    "print(\"Count of unique values in 'Marital' after mapping:\")\n",
    "print(marital_counts_after_mapping)"
   ]
  },
  {
   "cell_type": "markdown",
   "metadata": {},
   "source": [
    "• Region  : Type of region where driver lives: rural, urban   \n",
    "• Territory is the territorial location code of vehicle, which has 55 labels in {11,12,13,· · · ,91}.  \n",
    "To fix the Region values, we will make clusters of Regions.\n",
    "The idea here is to see the tuples as following :\n",
    "\n",
    "Tuple = [Value(Region) : Territory(1,2,...)].  \n",
    "Exemple : [Rural, Territory (1,5,9), Urban, Territory (7,89,63,...)].  \n",
    "With this idea, we will then input the approx Region.  "
   ]
  },
  {
   "cell_type": "code",
   "execution_count": 24,
   "metadata": {},
   "outputs": [
    {
     "name": "stdout",
     "output_type": "stream",
     "text": [
      "Car.use     Territory\n",
      "Commercial  43           113\n",
      "            35            98\n",
      "            39            93\n",
      "            31            84\n",
      "            30            83\n",
      "                        ... \n",
      "Private     90           492\n",
      "            61           448\n",
      "            62           436\n",
      "            60           431\n",
      "            11            31\n",
      "Name: count, Length: 220, dtype: int64\n"
     ]
    }
   ],
   "source": [
    "# Select rows where 'Car.use' is in the specified categories\n",
    "selected_car_use = ['Private', 'Commute', 'Farmer', 'Commercial']\n",
    "filtered_df = cnt_df[cnt_df['Car.use'].isin(selected_car_use)]\n",
    "\n",
    "# Group by 'Car.use' and count the occurrences of each 'Territory'\n",
    "territory_by_car_use = filtered_df.groupby('Car.use')['Territory'].value_counts()\n",
    "\n",
    "# Display the result\n",
    "print(territory_by_car_use)"
   ]
  },
  {
   "cell_type": "code",
   "execution_count": 25,
   "metadata": {},
   "outputs": [
    {
     "name": "stdout",
     "output_type": "stream",
     "text": [
      "Unique values and their counts in 'Years.noclaims':\n",
      "Years.noclaims\n",
      "9     2436\n",
      "8     2428\n",
      "7     2254\n",
      "10    2195\n",
      "37    2111\n",
      "      ... \n",
      "78       3\n",
      "85       2\n",
      "79       1\n",
      "82       1\n",
      "80       1\n",
      "Name: count, Length: 84, dtype: int64\n"
     ]
    }
   ],
   "source": [
    "# Display unique values and their counts in 'Years.noclaims'\n",
    "unique_values_counts = cnt_df['Years.noclaims'].value_counts(dropna=False)\n",
    "\n",
    "# Display the results\n",
    "print(\"Unique values and their counts in 'Years.noclaims':\")\n",
    "print(unique_values_counts)"
   ]
  },
  {
   "cell_type": "code",
   "execution_count": 26,
   "metadata": {},
   "outputs": [
    {
     "name": "stdout",
     "output_type": "stream",
     "text": [
      "Car.use\n",
      "Commute       50235\n",
      "Private       46103\n",
      "Commercial     2650\n",
      "Farmer         1411\n",
      "Name: count, dtype: int64\n"
     ]
    }
   ],
   "source": [
    "# Define the allowed car use categories\n",
    "allowed_car_use = ['Private', 'Commute', 'Farmer', 'Commercial']\n",
    "\n",
    "# Filter rows where 'Car.use' is not in the allowed categories\n",
    "invalid_car_use_mask = ~cnt_df['Car.use'].isin(allowed_car_use)\n",
    "\n",
    "# For invalid 'Car.use', correct based on 'Territory'\n",
    "for index, row in cnt_df[invalid_car_use_mask].iterrows():\n",
    "    territory = row['Territory']\n",
    "    \n",
    "    # Define mapping from Territory to corrected Car.use\n",
    "    territory_to_car_use = {\n",
    "        # Define your mappings here\n",
    "        1: 'Private',\n",
    "        2: 'Commute',\n",
    "        3: 'Farmer',\n",
    "        4: 'Commercial',\n",
    "        # Add more mappings as needed\n",
    "    }\n",
    "\n",
    "    # Correct the 'Car.use' based on 'Territory'\n",
    "    corrected_car_use = territory_to_car_use.get(territory, 'Commute')\n",
    "\n",
    "    # Update the 'Car.use' in the DataFrame\n",
    "    cnt_df.at[index, 'Car.use'] = corrected_car_use\n",
    "\n",
    "# Verify the changes\n",
    "print(cnt_df['Car.use'].value_counts())"
   ]
  },
  {
   "cell_type": "code",
   "execution_count": 27,
   "metadata": {},
   "outputs": [
    {
     "name": "stdout",
     "output_type": "stream",
     "text": [
      "Region\n",
      "Urban    78486\n",
      "Rural    21913\n",
      "Name: count, dtype: int64\n"
     ]
    }
   ],
   "source": [
    "# Define the allowed Region categories\n",
    "allowed_Region = ['Rural', 'Urban']\n",
    "\n",
    "# Filter rows where 'Region' is not in the allowed categories\n",
    "invalid_Region_mask = ~cnt_df['Region'].isin(allowed_Region)\n",
    "\n",
    "# For invalid 'Region', correct based on 'Territory'\n",
    "for index, row in cnt_df[invalid_Region_mask].iterrows():\n",
    "    territory = row['Territory']\n",
    "    \n",
    "    # Define mapping from Territory to corrected Region\n",
    "    territory_to_Region = {\n",
    "        # Define your mappings here\n",
    "        1: 'Urban',\n",
    "        2: 'Rural',\n",
    "    }\n",
    "\n",
    "    # Correct the 'Region' based on 'Territory'\n",
    "    corrected_Region = territory_to_Region.get(territory, 'Urban')\n",
    "\n",
    "    # Update the 'Region' in the DataFrame\n",
    "    cnt_df.at[index, 'Region'] = corrected_Region\n",
    "\n",
    "# Verify the changes\n",
    "print(cnt_df['Region'].value_counts())"
   ]
  },
  {
   "cell_type": "code",
   "execution_count": 28,
   "metadata": {},
   "outputs": [
    {
     "name": "stdout",
     "output_type": "stream",
     "text": [
      "Number of occurrences of 'EAJ': 36\n"
     ]
    }
   ],
   "source": [
    "# Count occurrences of 'EAJ' in 'Years.noclaims'\n",
    "eaj_count = cnt_df['Years.noclaims'].eq('EAJ').sum()\n",
    "\n",
    "# Display the result\n",
    "print(\"Number of occurrences of 'EAJ':\", eaj_count)"
   ]
  },
  {
   "cell_type": "markdown",
   "metadata": {},
   "source": [
    "Years.noclaims must be in [0,79].  \n",
    "Years.noclaims is the number of years without any claims, with values in [0, 79] and\n",
    "always less than Insured.age.\n",
    "We will add 'EAJ' to 1 and all the occurances from greater than 79 years will be added back to 79."
   ]
  },
  {
   "cell_type": "code",
   "execution_count": 29,
   "metadata": {},
   "outputs": [
    {
     "name": "stdout",
     "output_type": "stream",
     "text": [
      "Summary of 'Years.noclaims' after modifications:\n",
      "count    100399.000000\n",
      "mean         28.856493\n",
      "std          16.153134\n",
      "min           0.000000\n",
      "25%          15.000000\n",
      "50%          29.000000\n",
      "75%          41.000000\n",
      "max          79.000000\n",
      "Name: Years.noclaims, dtype: float64\n"
     ]
    }
   ],
   "source": [
    "# Replace 'EAJ' with 1\n",
    "cnt_df['Years.noclaims'] = cnt_df['Years.noclaims'].replace('EAJ', 1)\n",
    "\n",
    "# Convert 'Years.noclaims' to numeric\n",
    "cnt_df['Years.noclaims'] = pd.to_numeric(cnt_df['Years.noclaims'], errors='coerce')\n",
    "\n",
    "# Replace values greater than 79 with 79\n",
    "cnt_df['Years.noclaims'] = cnt_df['Years.noclaims'].where(cnt_df['Years.noclaims'] <= 79, 79)\n",
    "\n",
    "# Verify the result\n",
    "years_noclaims_summary = cnt_df['Years.noclaims'].describe()\n",
    "print(\"Summary of 'Years.noclaims' after modifications:\")\n",
    "print(years_noclaims_summary)"
   ]
  },
  {
   "cell_type": "markdown",
   "metadata": {},
   "source": [
    "Years.noclaims must always be less than insured.age"
   ]
  },
  {
   "cell_type": "code",
   "execution_count": 30,
   "metadata": {},
   "outputs": [],
   "source": [
    "# Check if 'Years.noclaims' is less than 'Insured.age'\n",
    "invalid_years_noclaims_mask = cnt_df['Years.noclaims'] >= cnt_df['Insured.age']\n",
    "\n",
    "# Calculate 'Years.noclaims - 16' for rows where the condition is not met\n",
    "cnt_df.loc[~invalid_years_noclaims_mask, 'Years.noclaims'] = np.maximum(0, cnt_df['Years.noclaims'] - 16)\n"
   ]
  },
  {
   "cell_type": "code",
   "execution_count": 31,
   "metadata": {},
   "outputs": [],
   "source": [
    "# Set values under 22 in 'Duration' to 22\n",
    "cnt_df.loc[cnt_df['Duration'] < 22, 'Duration'] = 22\n"
   ]
  },
  {
   "cell_type": "code",
   "execution_count": 32,
   "metadata": {},
   "outputs": [
    {
     "name": "stdout",
     "output_type": "stream",
     "text": [
      "Unique values in 'Insured.sex':\n",
      "['Female' 'Male']\n",
      "\n",
      "Unique values in 'Marital':\n",
      "['Single' 'Married']\n",
      "\n",
      "Unique values in 'Car.use':\n",
      "['Private' 'Commute' 'Commercial' 'Farmer']\n",
      "\n",
      "Unique values in 'Region':\n",
      "['Urban' 'Rural']\n",
      "\n"
     ]
    }
   ],
   "source": [
    "# Filter object variables\n",
    "object_columns = cnt_df.select_dtypes(include='object').columns\n",
    "\n",
    "# Display unique values for each object variable\n",
    "for column in object_columns:\n",
    "    unique_values = cnt_df[column].unique()\n",
    "    print(f\"Unique values in '{column}':\")\n",
    "    print(unique_values)\n",
    "    print()"
   ]
  },
  {
   "cell_type": "markdown",
   "metadata": {},
   "source": [
    "Conditions Check :   \n",
    "• Duration is the period that policyholder is insured in days, with values in [22,366].  \n",
    "• Insured.age is the age of insured driver in integral years, with values in [16,103].  \n",
    "• Car.age is the age of vehicle, with values in [-2,20]. Negative values are rare but are possible as buying a newer model can be up to two years in advance.  \n",
    "• Years.noclaims is the number of years without any claims, with values in [0, 79] and\n",
    "always less than Insured.age.  \n",
    "• Territory is the territorial location code of vehicle, which has 55 labels in {11,12,13,· · · ,91}.  "
   ]
  },
  {
   "cell_type": "code",
   "execution_count": 33,
   "metadata": {},
   "outputs": [
    {
     "name": "stdout",
     "output_type": "stream",
     "text": [
      "Range of values in 'Duration': (22, 366)\n",
      "Range of values in 'Insured.age': (16, 103)\n",
      "Range of values in 'Car.age': (-2, 20)\n",
      "Range of values in 'Years.noclaims': (0, 78)\n",
      "Range of values in 'Territory': (11, 91)\n"
     ]
    }
   ],
   "source": [
    "# Find the range of values in 'Duration'\n",
    "duration_range = (cnt_df['Duration'].min(), cnt_df['Duration'].max())\n",
    "# Print the range\n",
    "print(\"Range of values in 'Duration':\", duration_range)\n",
    "\n",
    "\n",
    "# Find the range of values in 'Insured.Age'\n",
    "Insured_age_range = (cnt_df['Insured.age'].min(), cnt_df['Insured.age'].max())\n",
    "# Print the range\n",
    "print(\"Range of values in 'Insured.age':\", Insured_age_range)\n",
    "\n",
    "\n",
    "# Find the range of values in 'Car.age'\n",
    "Car_age_range = (cnt_df['Car.age'].min(), cnt_df['Car.age'].max())\n",
    "# Print the range\n",
    "print(\"Range of values in 'Car.age':\", Car_age_range)\n",
    "\n",
    "\n",
    "# Find the range of values in 'Years.noclaims'\n",
    "Years_noclaims_range = (cnt_df['Years.noclaims'].min(), cnt_df['Years.noclaims'].max())\n",
    "# Print the range\n",
    "print(\"Range of values in 'Years.noclaims':\", Years_noclaims_range)\n",
    "\n",
    "\n",
    "# Find the range of values in 'Territory'\n",
    "Territory_range = (cnt_df['Territory'].min(), cnt_df['Territory'].max())\n",
    "# Print the range\n",
    "print(\"Range of values in 'Territory':\", Territory_range)"
   ]
  },
  {
   "cell_type": "markdown",
   "metadata": {},
   "source": [
    "For simplication purpose, we will turn 'Credit.score' and 'Annual.miles.drive' to integers"
   ]
  },
  {
   "cell_type": "code",
   "execution_count": 34,
   "metadata": {},
   "outputs": [],
   "source": [
    "# Convert 'Credit.score' and 'Annual.miles.drive' to integers\n",
    "cnt_df['Credit.score'] = cnt_df['Credit.score'].astype('int64')\n",
    "cnt_df['Annual.miles.drive'] = cnt_df['Annual.miles.drive'].astype('int64')"
   ]
  },
  {
   "cell_type": "code",
   "execution_count": 35,
   "metadata": {},
   "outputs": [
    {
     "name": "stdout",
     "output_type": "stream",
     "text": [
      "\n",
      "DB_CNT.xlsx DataFrame:\n",
      "<class 'pandas.core.frame.DataFrame'>\n",
      "RangeIndex: 100399 entries, 0 to 100398\n",
      "Data columns (total 12 columns):\n",
      " #   Column              Non-Null Count   Dtype \n",
      "---  ------              --------------   ----- \n",
      " 0   Id_pol              100399 non-null  int64 \n",
      " 1   Duration            100399 non-null  int64 \n",
      " 2   Insured.age         100399 non-null  int64 \n",
      " 3   Insured.sex         100399 non-null  object\n",
      " 4   Car.age             100399 non-null  int64 \n",
      " 5   Marital             100399 non-null  object\n",
      " 6   Car.use             100399 non-null  object\n",
      " 7   Credit.score        100399 non-null  int64 \n",
      " 8   Region              100399 non-null  object\n",
      " 9   Annual.miles.drive  100399 non-null  int64 \n",
      " 10  Years.noclaims      100399 non-null  int64 \n",
      " 11  Territory           100399 non-null  int64 \n",
      "dtypes: int64(8), object(4)\n",
      "memory usage: 9.2+ MB\n",
      "None\n"
     ]
    }
   ],
   "source": [
    "print(\"\\nDB_CNT.xlsx DataFrame:\")\n",
    "print(cnt_df.info())\n"
   ]
  },
  {
   "cell_type": "markdown",
   "metadata": {},
   "source": [
    "#### 3.2.c Visualization\n",
    "\n",
    "- Age and sex\n",
    "- Sex and Car use\n",
    "- Car Age and Credit Score\n",
    "- Car Age and Car use and Region\n",
    "- Annual miles and Region\n",
    "- Annual miles and Car Use"
   ]
  },
  {
   "cell_type": "code",
   "execution_count": 36,
   "metadata": {},
   "outputs": [
    {
     "data": {
      "image/png": "[encoded data removed]",
      "text/plain": [
       "<Figure size 1000x600 with 1 Axes>"
      ]
     },
     "metadata": {},
     "output_type": "display_data"
    },
    {
     "data": {
      "image/png": "[encoded data removed]",
      "text/plain": [
       "<Figure size 1000x600 with 1 Axes>"
      ]
     },
     "metadata": {},
     "output_type": "display_data"
    },
    {
     "data": {
      "image/png": "[encoded data removed]",
      "text/plain": [
       "<Figure size 1200x600 with 1 Axes>"
      ]
     },
     "metadata": {},
     "output_type": "display_data"
    },
    {
     "data": {
      "image/png": "[encoded data removed]",
      "text/plain": [
       "<Figure size 1200x600 with 1 Axes>"
      ]
     },
     "metadata": {},
     "output_type": "display_data"
    },
    {
     "data": {
      "image/png": "[encoded data removed]",
      "text/plain": [
       "<Figure size 1200x600 with 1 Axes>"
      ]
     },
     "metadata": {},
     "output_type": "display_data"
    },
    {
     "data": {
      "image/png": "[encoded data removed]",
      "text/plain": [
       "<Figure size 1200x600 with 1 Axes>"
      ]
     },
     "metadata": {},
     "output_type": "display_data"
    }
   ],
   "source": [
    "import seaborn as sns\n",
    "import matplotlib.pyplot as plt\n",
    "\n",
    "# Set the style for seaborn\n",
    "sns.set(style=\"whitegrid\")\n",
    "\n",
    "# Age and Sex\n",
    "plt.figure(figsize=(10, 6))\n",
    "sns.boxplot(x='Insured.sex', y='Insured.age', data=cnt_df, palette='pastel')\n",
    "plt.title('Age Distribution by Sex')\n",
    "plt.xlabel('Sex')\n",
    "plt.ylabel('Age')\n",
    "plt.show()\n",
    "\n",
    "# Sex and Car use\n",
    "plt.figure(figsize=(10, 6))\n",
    "sns.countplot(x='Insured.sex', hue='Car.use', data=cnt_df, palette='pastel')\n",
    "plt.title('Count of Car Use by Sex')\n",
    "plt.xlabel('Sex')\n",
    "plt.ylabel('Count')\n",
    "plt.show()\n",
    "\n",
    "# Car Age and Credit Score\n",
    "plt.figure(figsize=(12, 6))\n",
    "sns.scatterplot(x='Car.age', y='Credit.score', data=cnt_df, palette='pastel')\n",
    "plt.title('Scatter Plot of Car Age and Credit Score')\n",
    "plt.xlabel('Car Age')\n",
    "plt.ylabel('Credit Score')\n",
    "plt.show()\n",
    "\n",
    "# Car Age and Car use and Region\n",
    "plt.figure(figsize=(12, 6))\n",
    "sns.boxplot(x='Car.use', y='Car.age', hue='Region', data=cnt_df, palette='pastel')\n",
    "plt.title('Car Age Distribution by Car Use and Region')\n",
    "plt.xlabel('Car Use')\n",
    "plt.ylabel('Car Age')\n",
    "plt.legend(title='Region')\n",
    "plt.show()\n",
    "\n",
    "# Annual miles and Region\n",
    "plt.figure(figsize=(12, 6))\n",
    "sns.boxplot(x='Region', y='Annual.miles.drive', data=cnt_df, palette='pastel')\n",
    "plt.title('Annual Miles Distribution by Region')\n",
    "plt.xlabel('Region')\n",
    "plt.ylabel('Annual Miles Driven')\n",
    "plt.show()\n",
    "\n",
    "# Annual miles and Car Use\n",
    "plt.figure(figsize=(12, 6))\n",
    "sns.boxplot(x='Car.use', y='Annual.miles.drive', data=cnt_df, palette='pastel')\n",
    "plt.title('Annual Miles Distribution by Car Use')\n",
    "plt.xlabel('Car Use')\n",
    "plt.ylabel('Annual Miles Driven')\n",
    "plt.show()\n"
   ]
  },
  {
   "cell_type": "markdown",
   "metadata": {},
   "source": [
    "#### Commentaire : Conclusion "
   ]
  },
  {
   "cell_type": "markdown",
   "metadata": {},
   "source": [
    "### 3.3 DB_TELEMATICS\n",
    "        "
   ]
  },
  {
   "cell_type": "code",
   "execution_count": 37,
   "metadata": {},
   "outputs": [
    {
     "name": "stdout",
     "output_type": "stream",
     "text": [
      "\n",
      "DB_Telematics.csv DataFrame:\n",
      "<class 'pandas.core.frame.DataFrame'>\n",
      "RangeIndex: 100332 entries, 0 to 100331\n",
      "Data columns (total 40 columns):\n",
      " #   Column                  Non-Null Count   Dtype  \n",
      "---  ------                  --------------   -----  \n",
      " 0   Id_pol                  100332 non-null  object \n",
      " 1   Annual.pct.driven       100332 non-null  object \n",
      " 2   Total.miles.driven      100332 non-null  object \n",
      " 3   Pct.drive.mon           100332 non-null  object \n",
      " 4   Pct.drive.tue           100332 non-null  object \n",
      " 5   Pct.drive.wed           100332 non-null  object \n",
      " 6   Pct.drive.thr           100332 non-null  object \n",
      " 7   Pct.drive.fri           100332 non-null  object \n",
      " 8   Pct.drive.sat           100332 non-null  object \n",
      " 9   Pct.drive.sun           100332 non-null  object \n",
      " 10  Pct.drive.2hrs          100332 non-null  object \n",
      " 11  Pct.drive.3hrs          100332 non-null  object \n",
      " 12  Pct.drive.4hrs          100332 non-null  object \n",
      " 13  Pct.drive.wkday         100332 non-null  object \n",
      " 14  Pct.drive.wkend         100332 non-null  object \n",
      " 15  Pct.drive.rush am       100332 non-null  object \n",
      " 16  Pct.drive.rush pm       100332 non-null  object \n",
      " 17  Avgdays.week            100332 non-null  object \n",
      " 18  Accel.06miles           100332 non-null  float64\n",
      " 19  Accel.08miles           100332 non-null  float64\n",
      " 20  Accel.09miles           100332 non-null  float64\n",
      " 21  Accel.11miles           100332 non-null  float64\n",
      " 22  Accel.12miles           100332 non-null  float64\n",
      " 23  Accel.14miles           100332 non-null  float64\n",
      " 24  Brake.06miles           100332 non-null  float64\n",
      " 25  Brake.08miles           100332 non-null  float64\n",
      " 26  Brake.09miles           100332 non-null  float64\n",
      " 27  Brake.11miles           100332 non-null  float64\n",
      " 28  Brake.12miles           100332 non-null  float64\n",
      " 29  Brake.14miles           100332 non-null  float64\n",
      " 30  Left.turn.intensity08   100332 non-null  float64\n",
      " 31  Left.turn.intensity09   100332 non-null  float64\n",
      " 32  Left.turn.intensity10   100332 non-null  float64\n",
      " 33  Left.turn.intensity11   100332 non-null  float64\n",
      " 34  Left.turn.intensity12   100332 non-null  float64\n",
      " 35  Right.turn.intensity08  100332 non-null  float64\n",
      " 36  Right.turn.intensity09  100332 non-null  float64\n",
      " 37  Right.turn.intensity10  100332 non-null  float64\n",
      " 38  Right.turn.intensity11  100332 non-null  float64\n",
      " 39  Right.turn.intensity12  100332 non-null  float64\n",
      "dtypes: float64(22), object(18)\n",
      "memory usage: 30.6+ MB\n",
      "None\n"
     ]
    }
   ],
   "source": [
    "print(\"\\nDB_Telematics.csv DataFrame:\")\n",
    "print(telematics_df.info())"
   ]
  },
  {
   "cell_type": "markdown",
   "metadata": {},
   "source": [
    "* Annual.pct.driven Annualized percentage of time on the road  \n",
    "* Total.miles.driven Total distance driven in miles  \n",
    "* Pct.drive.xxx Percent of driving day xxx of the week: mon/tue/. . . /sun  \n",
    "* Pct.drive.xhrs Percent vehicle driven within x hrs: 2hrs/3hrs/4hrs  \n",
    "* Pct.drive.xxx Percent vehicle driven during xxx: wkday/wkend  \n",
    "* Pct.drive.rushxx Percent of driving during xx rush hours: am/pm  \n",
    "* Avgdays.week Mean number of days used per week  \n",
    "* Accel.xxmiles Number of sudden acceleration 6/8/9/. . . /14 mph/s per 1000miles  \n",
    "* Brake.xxmiles Number of sudden brakes 6/8/9/. . . /14 mph/s per 1000miles  \n",
    "* Left.turn.intensityxx Number of left turn per 1000miles with intensity 08/09/10/11/12  \n",
    "* Right.turn.intensityxx Number of right turn per 1000miles with intensity 08/09/10/11/12  "
   ]
  },
  {
   "cell_type": "markdown",
   "metadata": {},
   "source": [
    "Conditions to meet for TELEMATICS.csv :  \n",
    "• Annual.pct.driven is the number of day a policyholder uses vehicle divided by 365, with\n",
    "values in [0,1.1].  \n",
    "• Pct.drive.mon, · · · , Pct.drive.sun are compositional variables meaning that the sum\n",
    "of seven (days of the week) variables is 100%.  \n",
    "• Pct.drive.wkday and Pct.drive.wkend are clearly compositional variables too.  "
   ]
  },
  {
   "cell_type": "markdown",
   "metadata": {},
   "source": [
    "#### 3.3.a Data Check and Cleaning (Missing Values, Duplicates, Data Types, Unique values)"
   ]
  },
  {
   "cell_type": "markdown",
   "metadata": {},
   "source": [
    "We see that the variable Id_pol is in a different form and some of the columns are objects when they should be floats. Lets start there."
   ]
  },
  {
   "cell_type": "code",
   "execution_count": 38,
   "metadata": {},
   "outputs": [
    {
     "name": "stdout",
     "output_type": "stream",
     "text": [
      "0         122389\n",
      "1         125019\n",
      "2         181154\n",
      "3         140021\n",
      "4         170356\n",
      "           ...  \n",
      "100327    215461\n",
      "100328    206415\n",
      "100329    187472\n",
      "100330    193966\n",
      "100331    129620\n",
      "Name: Id_pol, Length: 100332, dtype: object\n"
     ]
    }
   ],
   "source": [
    "# Remove 'cnt_' prefix from 'Id_pol'\n",
    "telematics_df['Id_pol'] = telematics_df['Id_pol'].str.replace('cnt_', '')\n",
    "\n",
    "# Display the updated 'Id_pol' column\n",
    "print(telematics_df['Id_pol'])\n"
   ]
  },
  {
   "cell_type": "code",
   "execution_count": 39,
   "metadata": {},
   "outputs": [],
   "source": [
    "columns_to_convert = [\n",
    "    'Id_pol', 'Annual.pct.driven', 'Total.miles.driven', 'Pct.drive.mon', 'Pct.drive.tue',\n",
    "    'Pct.drive.wed', 'Pct.drive.thr', 'Pct.drive.fri', 'Pct.drive.sat', 'Pct.drive.sun',\n",
    "    'Pct.drive.2hrs', 'Pct.drive.3hrs', 'Pct.drive.4hrs', 'Pct.drive.wkday', 'Pct.drive.wkend',\n",
    "    'Pct.drive.rush am', 'Pct.drive.rush pm', 'Avgdays.week'\n",
    "]"
   ]
  },
  {
   "cell_type": "code",
   "execution_count": 40,
   "metadata": {},
   "outputs": [],
   "source": [
    "\n",
    "\n",
    "telematics_df[columns_to_convert] = telematics_df[columns_to_convert].replace(',', '.', regex=True)"
   ]
  },
  {
   "cell_type": "code",
   "execution_count": null,
   "metadata": {},
   "outputs": [],
   "source": [
    "# View the specified columns before conversion\n",
    "#print(telematics_df[columns_to_convert])"
   ]
  },
  {
   "cell_type": "code",
   "execution_count": 42,
   "metadata": {},
   "outputs": [],
   "source": [
    "telematics_df[columns_to_convert] = telematics_df[columns_to_convert].apply(pd.to_numeric, errors='coerce')"
   ]
  },
  {
   "cell_type": "code",
   "execution_count": 43,
   "metadata": {},
   "outputs": [
    {
     "name": "stdout",
     "output_type": "stream",
     "text": [
      "Missing Values per Column:\n",
      "Series([], dtype: int64)\n"
     ]
    }
   ],
   "source": [
    "missing_values = telematics_df.isnull().sum()\n",
    "print(\"Missing Values per Column:\")\n",
    "print(missing_values[missing_values > 0])\n"
   ]
  },
  {
   "cell_type": "markdown",
   "metadata": {},
   "source": [
    "There is no missing Values in the DataSet. "
   ]
  },
  {
   "cell_type": "markdown",
   "metadata": {},
   "source": [
    "Urban > Acceleration > Brake\n",
    "\n",
    "Drive.Hour(Rural/urban)\n",
    "\n",
    "Correlation : \n",
    "- (Acceleration) > Claims\n",
    "- Accelaration > Age/Sex > Rural\n",
    "- diff Annual Miles Telematics vs Annual Miles CNT/\n",
    "\n",
    "AvgDayWeek\n",
    "Drive.rush\n"
   ]
  },
  {
   "cell_type": "code",
   "execution_count": 45,
   "metadata": {},
   "outputs": [
    {
     "name": "stdout",
     "output_type": "stream",
     "text": [
      "\n",
      "DB_Telematics.csv DataFrame:\n",
      "<class 'pandas.core.frame.DataFrame'>\n",
      "RangeIndex: 100332 entries, 0 to 100331\n",
      "Data columns (total 40 columns):\n",
      " #   Column                  Non-Null Count   Dtype  \n",
      "---  ------                  --------------   -----  \n",
      " 0   Id_pol                  100332 non-null  int64  \n",
      " 1   Annual.pct.driven       100332 non-null  float64\n",
      " 2   Total.miles.driven      100332 non-null  float64\n",
      " 3   Pct.drive.mon           100332 non-null  float64\n",
      " 4   Pct.drive.tue           100332 non-null  float64\n",
      " 5   Pct.drive.wed           100332 non-null  float64\n",
      " 6   Pct.drive.thr           100332 non-null  float64\n",
      " 7   Pct.drive.fri           100332 non-null  float64\n",
      " 8   Pct.drive.sat           100332 non-null  float64\n",
      " 9   Pct.drive.sun           100332 non-null  float64\n",
      " 10  Pct.drive.2hrs          100332 non-null  float64\n",
      " 11  Pct.drive.3hrs          100332 non-null  float64\n",
      " 12  Pct.drive.4hrs          100332 non-null  float64\n",
      " 13  Pct.drive.wkday         100332 non-null  float64\n",
      " 14  Pct.drive.wkend         100332 non-null  float64\n",
      " 15  Pct.drive.rush am       100332 non-null  float64\n",
      " 16  Pct.drive.rush pm       100332 non-null  float64\n",
      " 17  Avgdays.week            100332 non-null  float64\n",
      " 18  Accel.06miles           100332 non-null  float64\n",
      " 19  Accel.08miles           100332 non-null  float64\n",
      " 20  Accel.09miles           100332 non-null  float64\n",
      " 21  Accel.11miles           100332 non-null  float64\n",
      " 22  Accel.12miles           100332 non-null  float64\n",
      " 23  Accel.14miles           100332 non-null  float64\n",
      " 24  Brake.06miles           100332 non-null  float64\n",
      " 25  Brake.08miles           100332 non-null  float64\n",
      " 26  Brake.09miles           100332 non-null  float64\n",
      " 27  Brake.11miles           100332 non-null  float64\n",
      " 28  Brake.12miles           100332 non-null  float64\n",
      " 29  Brake.14miles           100332 non-null  float64\n",
      " 30  Left.turn.intensity08   100332 non-null  float64\n",
      " 31  Left.turn.intensity09   100332 non-null  float64\n",
      " 32  Left.turn.intensity10   100332 non-null  float64\n",
      " 33  Left.turn.intensity11   100332 non-null  float64\n",
      " 34  Left.turn.intensity12   100332 non-null  float64\n",
      " 35  Right.turn.intensity08  100332 non-null  float64\n",
      " 36  Right.turn.intensity09  100332 non-null  float64\n",
      " 37  Right.turn.intensity10  100332 non-null  float64\n",
      " 38  Right.turn.intensity11  100332 non-null  float64\n",
      " 39  Right.turn.intensity12  100332 non-null  float64\n",
      "dtypes: float64(39), int64(1)\n",
      "memory usage: 30.6 MB\n",
      "None\n"
     ]
    }
   ],
   "source": [
    "print(\"\\nDB_Telematics.csv DataFrame:\")\n",
    "print(telematics_df.info())"
   ]
  },
  {
   "cell_type": "markdown",
   "metadata": {},
   "source": [
    "#### 3.3.b Preprocessing and Exploratory Analysis\n",
    "     "
   ]
  },
  {
   "cell_type": "markdown",
   "metadata": {},
   "source": [
    "#### 3.3.c Visualization"
   ]
  },
  {
   "cell_type": "code",
   "execution_count": null,
   "metadata": {},
   "outputs": [],
   "source": [
    "# Convert 'Id_pol' in DB_Telematics.csv to int64\n",
    "telematics_df['Id_pol'] = pd.to_numeric(telematics_df['Id_pol'].str.replace('cnt_', ''), errors='coerce', downcast='integer').astype('int64')\n"
   ]
  },
  {
   "cell_type": "code",
   "execution_count": 46,
   "metadata": {},
   "outputs": [
    {
     "name": "stdout",
     "output_type": "stream",
     "text": [
      "<class 'pandas.core.frame.DataFrame'>\n",
      "RangeIndex: 100332 entries, 0 to 100331\n",
      "Data columns (total 40 columns):\n",
      " #   Column                  Non-Null Count   Dtype  \n",
      "---  ------                  --------------   -----  \n",
      " 0   Id_pol                  100332 non-null  int64  \n",
      " 1   Annual.pct.driven       100332 non-null  float64\n",
      " 2   Total.miles.driven      100332 non-null  float64\n",
      " 3   Pct.drive.mon           100332 non-null  float64\n",
      " 4   Pct.drive.tue           100332 non-null  float64\n",
      " 5   Pct.drive.wed           100332 non-null  float64\n",
      " 6   Pct.drive.thr           100332 non-null  float64\n",
      " 7   Pct.drive.fri           100332 non-null  float64\n",
      " 8   Pct.drive.sat           100332 non-null  float64\n",
      " 9   Pct.drive.sun           100332 non-null  float64\n",
      " 10  Pct.drive.2hrs          100332 non-null  float64\n",
      " 11  Pct.drive.3hrs          100332 non-null  float64\n",
      " 12  Pct.drive.4hrs          100332 non-null  float64\n",
      " 13  Pct.drive.wkday         100332 non-null  float64\n",
      " 14  Pct.drive.wkend         100332 non-null  float64\n",
      " 15  Pct.drive.rush am       100332 non-null  float64\n",
      " 16  Pct.drive.rush pm       100332 non-null  float64\n",
      " 17  Avgdays.week            100332 non-null  float64\n",
      " 18  Accel.06miles           100332 non-null  float64\n",
      " 19  Accel.08miles           100332 non-null  float64\n",
      " 20  Accel.09miles           100332 non-null  float64\n",
      " 21  Accel.11miles           100332 non-null  float64\n",
      " 22  Accel.12miles           100332 non-null  float64\n",
      " 23  Accel.14miles           100332 non-null  float64\n",
      " 24  Brake.06miles           100332 non-null  float64\n",
      " 25  Brake.08miles           100332 non-null  float64\n",
      " 26  Brake.09miles           100332 non-null  float64\n",
      " 27  Brake.11miles           100332 non-null  float64\n",
      " 28  Brake.12miles           100332 non-null  float64\n",
      " 29  Brake.14miles           100332 non-null  float64\n",
      " 30  Left.turn.intensity08   100332 non-null  float64\n",
      " 31  Left.turn.intensity09   100332 non-null  float64\n",
      " 32  Left.turn.intensity10   100332 non-null  float64\n",
      " 33  Left.turn.intensity11   100332 non-null  float64\n",
      " 34  Left.turn.intensity12   100332 non-null  float64\n",
      " 35  Right.turn.intensity08  100332 non-null  float64\n",
      " 36  Right.turn.intensity09  100332 non-null  float64\n",
      " 37  Right.turn.intensity10  100332 non-null  float64\n",
      " 38  Right.turn.intensity11  100332 non-null  float64\n",
      " 39  Right.turn.intensity12  100332 non-null  float64\n",
      "dtypes: float64(39), int64(1)\n",
      "memory usage: 30.6 MB\n",
      "None\n"
     ]
    }
   ],
   "source": [
    "# List of object-type columns to convert to float64\n",
    "object_columns_to_convert = [\n",
    "    'Annual.pct.driven', 'Total.miles.driven', 'Pct.drive.mon', 'Pct.drive.tue',\n",
    "    'Pct.drive.wed', 'Pct.drive.thr', 'Pct.drive.fri', 'Pct.drive.sat',\n",
    "    'Pct.drive.sun', 'Pct.drive.2hrs', 'Pct.drive.3hrs', 'Pct.drive.4hrs',\n",
    "    'Pct.drive.wkday', 'Pct.drive.wkend', 'Pct.drive.rush am', 'Pct.drive.rush pm',\n",
    "    'Avgdays.week'\n",
    "]\n",
    "\n",
    "# Replace commas with dots and convert to float64\n",
    "telematics_df[object_columns_to_convert] = telematics_df[object_columns_to_convert].replace(',', '.', regex=True).astype('float64')\n",
    "\n",
    "# Display the updated DataFrame\n",
    "print(telematics_df.info())\n"
   ]
  },
  {
   "cell_type": "markdown",
   "metadata": {},
   "source": [
    "## 4. Merging DataBases"
   ]
  },
  {
   "cell_type": "markdown",
   "metadata": {},
   "source": [
    "We will merge the bases to be able to work on a larger scale of variables."
   ]
  },
  {
   "cell_type": "markdown",
   "metadata": {},
   "source": [
    "## 4. DataBase Merges "
   ]
  },
  {
   "cell_type": "markdown",
   "metadata": {},
   "source": [
    "### 4.1. Descriptive Data Analysis : Univaried/Multivaried"
   ]
  },
  {
   "cell_type": "code",
   "execution_count": null,
   "metadata": {},
   "outputs": [],
   "source": []
  },
  {
   "cell_type": "code",
   "execution_count": null,
   "metadata": {},
   "outputs": [],
   "source": []
  },
  {
   "cell_type": "markdown",
   "metadata": {},
   "source": [
    "### 4.2. Analyse graphique (data visualisation) + Interfaçage via Shiny for Python "
   ]
  },
  {
   "cell_type": "markdown",
   "metadata": {},
   "source": [
    "## 5. Modélisation"
   ]
  },
  {
   "cell_type": "markdown",
   "metadata": {},
   "source": [
    "### 5.1 supervisée (régression, classification) vs non supervisée    "
   ]
  },
  {
   "cell_type": "markdown",
   "metadata": {},
   "source": [
    "### 5.2 paramétrique (économétriques) vs non paramétriques (machine learning)"
   ]
  },
  {
   "cell_type": "markdown",
   "metadata": {},
   "source": [
    "## 6. Analyse des résultats : interprétation, explications "
   ]
  },
  {
   "cell_type": "markdown",
   "metadata": {},
   "source": [
    "### 6.1 Interpretation des résultats"
   ]
  },
  {
   "cell_type": "markdown",
   "metadata": {},
   "source": [
    "## 7. Application : prévision, tarification, etc."
   ]
  },
  {
   "cell_type": "markdown",
   "metadata": {},
   "source": [
    "### 7.1 Prevision and Tarification"
   ]
  }
 ],
 "metadata": {
  "kernelspec": {
   "display_name": "Python 3",
   "language": "python",
   "name": "python3"
  },
  "language_info": {
   "codemirror_mode": {
    "name": "ipython",
    "version": 3
   },
   "file_extension": ".py",
   "mimetype": "text/x-python",
   "name": "python",
   "nbconvert_exporter": "python",
   "pygments_lexer": "ipython3",
   "version": "3.12.0"
  }
 },
 "nbformat": 4,
 "nbformat_minor": 2
}
